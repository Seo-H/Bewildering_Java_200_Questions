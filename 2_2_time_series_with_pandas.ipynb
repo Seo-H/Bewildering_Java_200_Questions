{
  "nbformat": 4,
  "nbformat_minor": 0,
  "metadata": {
    "kernelspec": {
      "display_name": "Python 3",
      "language": "python",
      "name": "python3"
    },
    "language_info": {
      "codemirror_mode": {
        "name": "ipython",
        "version": 3
      },
      "file_extension": ".py",
      "mimetype": "text/x-python",
      "name": "python",
      "nbconvert_exporter": "python",
      "pygments_lexer": "ipython3",
      "version": "3.6.7"
    },
    "colab": {
      "name": "2.2.time series with pandas.ipynb",
      "provenance": [],
      "include_colab_link": true
    }
  },
  "cells": [
    {
      "cell_type": "markdown",
      "metadata": {
        "id": "view-in-github",
        "colab_type": "text"
      },
      "source": [
        "<a href=\"https://colab.research.google.com/github/Seo-H/Bewildering_Java_200_Questions/blob/master/2_2_time_series_with_pandas.ipynb\" target=\"_parent\"><img src=\"https://colab.research.google.com/assets/colab-badge.svg\" alt=\"Open In Colab\"/></a>"
      ]
    },
    {
      "cell_type": "markdown",
      "metadata": {
        "id": "fGoaIzhgFRDX",
        "colab_type": "text"
      },
      "source": [
        "# 2.2 금융 데이터 전처리&분석을 위한 판다스 pandas 사용법.\n",
        "\n",
        "## 2.2.1. 데이터 불러오기"
      ]
    },
    {
      "cell_type": "code",
      "metadata": {
        "id": "AwoW5kQMFRDY",
        "colab_type": "code",
        "colab": {}
      },
      "source": [
        "import pandas as pd\n",
        "df = pd.read_csv('../data/stock/AAPL.csv')"
      ],
      "execution_count": null,
      "outputs": []
    },
    {
      "cell_type": "code",
      "metadata": {
        "id": "8NOEZPcoFRDd",
        "colab_type": "code",
        "colab": {},
        "outputId": "79cd7559-252f-48e4-8127-e56920911c09"
      },
      "source": [
        "df.head()"
      ],
      "execution_count": null,
      "outputs": [
        {
          "output_type": "execute_result",
          "data": {
            "text/html": [
              "<div>\n",
              "<style scoped>\n",
              "    .dataframe tbody tr th:only-of-type {\n",
              "        vertical-align: middle;\n",
              "    }\n",
              "\n",
              "    .dataframe tbody tr th {\n",
              "        vertical-align: top;\n",
              "    }\n",
              "\n",
              "    .dataframe thead th {\n",
              "        text-align: right;\n",
              "    }\n",
              "</style>\n",
              "<table border=\"1\" class=\"dataframe\">\n",
              "  <thead>\n",
              "    <tr style=\"text-align: right;\">\n",
              "      <th></th>\n",
              "      <th>Date</th>\n",
              "      <th>Open</th>\n",
              "      <th>High</th>\n",
              "      <th>Low</th>\n",
              "      <th>Close</th>\n",
              "      <th>Adj Close</th>\n",
              "      <th>Volume</th>\n",
              "    </tr>\n",
              "  </thead>\n",
              "  <tbody>\n",
              "    <tr>\n",
              "      <th>0</th>\n",
              "      <td>1980-12-12</td>\n",
              "      <td>0.513393</td>\n",
              "      <td>0.515625</td>\n",
              "      <td>0.513393</td>\n",
              "      <td>0.513393</td>\n",
              "      <td>0.410525</td>\n",
              "      <td>117258400.0</td>\n",
              "    </tr>\n",
              "    <tr>\n",
              "      <th>1</th>\n",
              "      <td>1980-12-15</td>\n",
              "      <td>0.488839</td>\n",
              "      <td>0.488839</td>\n",
              "      <td>0.486607</td>\n",
              "      <td>0.486607</td>\n",
              "      <td>0.389106</td>\n",
              "      <td>43971200.0</td>\n",
              "    </tr>\n",
              "    <tr>\n",
              "      <th>2</th>\n",
              "      <td>1980-12-16</td>\n",
              "      <td>0.453125</td>\n",
              "      <td>0.453125</td>\n",
              "      <td>0.450893</td>\n",
              "      <td>0.450893</td>\n",
              "      <td>0.360548</td>\n",
              "      <td>26432000.0</td>\n",
              "    </tr>\n",
              "    <tr>\n",
              "      <th>3</th>\n",
              "      <td>1980-12-17</td>\n",
              "      <td>0.462054</td>\n",
              "      <td>0.464286</td>\n",
              "      <td>0.462054</td>\n",
              "      <td>0.462054</td>\n",
              "      <td>0.369472</td>\n",
              "      <td>21610400.0</td>\n",
              "    </tr>\n",
              "    <tr>\n",
              "      <th>4</th>\n",
              "      <td>1980-12-18</td>\n",
              "      <td>0.475446</td>\n",
              "      <td>0.477679</td>\n",
              "      <td>0.475446</td>\n",
              "      <td>0.475446</td>\n",
              "      <td>0.380182</td>\n",
              "      <td>18362400.0</td>\n",
              "    </tr>\n",
              "  </tbody>\n",
              "</table>\n",
              "</div>"
            ],
            "text/plain": [
              "         Date      Open      High       Low     Close  Adj Close       Volume\n",
              "0  1980-12-12  0.513393  0.515625  0.513393  0.513393   0.410525  117258400.0\n",
              "1  1980-12-15  0.488839  0.488839  0.486607  0.486607   0.389106   43971200.0\n",
              "2  1980-12-16  0.453125  0.453125  0.450893  0.450893   0.360548   26432000.0\n",
              "3  1980-12-17  0.462054  0.464286  0.462054  0.462054   0.369472   21610400.0\n",
              "4  1980-12-18  0.475446  0.477679  0.475446  0.475446   0.380182   18362400.0"
            ]
          },
          "metadata": {
            "tags": []
          },
          "execution_count": 3
        }
      ]
    },
    {
      "cell_type": "code",
      "metadata": {
        "id": "cPbj5dZNFRDg",
        "colab_type": "code",
        "colab": {},
        "outputId": "014557ea-17b9-4703-c7d4-a0d3311e1756"
      },
      "source": [
        "print(type(df.index))\n",
        "print(type(df.index[0]))"
      ],
      "execution_count": null,
      "outputs": [
        {
          "output_type": "stream",
          "text": [
            "<class 'pandas.core.indexes.range.RangeIndex'>\n",
            "<class 'int'>\n"
          ],
          "name": "stdout"
        }
      ]
    },
    {
      "cell_type": "code",
      "metadata": {
        "id": "lVfsaJymFRDj",
        "colab_type": "code",
        "colab": {},
        "outputId": "b84923f5-5dc9-4b67-9f26-8e85f7d7ba23"
      },
      "source": [
        "type(df['Date'][0])"
      ],
      "execution_count": null,
      "outputs": [
        {
          "output_type": "execute_result",
          "data": {
            "text/plain": [
              "str"
            ]
          },
          "metadata": {
            "tags": []
          },
          "execution_count": 5
        }
      ]
    },
    {
      "cell_type": "code",
      "metadata": {
        "id": "SWB6RFaAFRDl",
        "colab_type": "code",
        "colab": {}
      },
      "source": [
        "for col in df.columns:\n",
        "    series = df[col]"
      ],
      "execution_count": null,
      "outputs": []
    },
    {
      "cell_type": "code",
      "metadata": {
        "id": "RU9LeUB_FRDo",
        "colab_type": "code",
        "colab": {},
        "outputId": "8fe58107-5732-4078-f999-289346352670"
      },
      "source": [
        "series"
      ],
      "execution_count": null,
      "outputs": [
        {
          "output_type": "execute_result",
          "data": {
            "text/plain": [
              "0       117258400.0\n",
              "1        43971200.0\n",
              "2        26432000.0\n",
              "3        21610400.0\n",
              "4        18362400.0\n",
              "           ...     \n",
              "9710     26551000.0\n",
              "9711     21124200.0\n",
              "9712     21514000.0\n",
              "9713     47735300.0\n",
              "9714      9025362.0\n",
              "Name: Volume, Length: 9715, dtype: float64"
            ]
          },
          "metadata": {
            "tags": []
          },
          "execution_count": 8
        }
      ]
    },
    {
      "cell_type": "markdown",
      "metadata": {
        "id": "fHx4v3erFRDr",
        "colab_type": "text"
      },
      "source": [
        "* parse_dates 매개변수를 사용하여 'Date' 컬럼을 timestamp타입으로 변환한다.\n",
        "* index_col 매개변수를 사용하여 'Date' 컬럼을 dataframe의 index로 지정한다."
      ]
    },
    {
      "cell_type": "code",
      "metadata": {
        "id": "NTU8FK3_FRDs",
        "colab_type": "code",
        "colab": {}
      },
      "source": [
        "aapl_df = pd.read_csv('../data/us_etf_data/AAPL.csv',index_col='Date', parse_dates=['Date'])"
      ],
      "execution_count": null,
      "outputs": []
    },
    {
      "cell_type": "code",
      "metadata": {
        "id": "S-EhcgBRFRDz",
        "colab_type": "code",
        "colab": {},
        "outputId": "fb178022-ba7d-40c9-aaed-6c3c2e0d6409"
      },
      "source": [
        "aapl_df.head()"
      ],
      "execution_count": null,
      "outputs": [
        {
          "output_type": "execute_result",
          "data": {
            "text/html": [
              "<div>\n",
              "<style scoped>\n",
              "    .dataframe tbody tr th:only-of-type {\n",
              "        vertical-align: middle;\n",
              "    }\n",
              "\n",
              "    .dataframe tbody tr th {\n",
              "        vertical-align: top;\n",
              "    }\n",
              "\n",
              "    .dataframe thead th {\n",
              "        text-align: right;\n",
              "    }\n",
              "</style>\n",
              "<table border=\"1\" class=\"dataframe\">\n",
              "  <thead>\n",
              "    <tr style=\"text-align: right;\">\n",
              "      <th></th>\n",
              "      <th>Open</th>\n",
              "      <th>High</th>\n",
              "      <th>Low</th>\n",
              "      <th>Close</th>\n",
              "      <th>Adj Close</th>\n",
              "      <th>Volume</th>\n",
              "    </tr>\n",
              "    <tr>\n",
              "      <th>Date</th>\n",
              "      <th></th>\n",
              "      <th></th>\n",
              "      <th></th>\n",
              "      <th></th>\n",
              "      <th></th>\n",
              "      <th></th>\n",
              "    </tr>\n",
              "  </thead>\n",
              "  <tbody>\n",
              "    <tr>\n",
              "      <th>1980-12-12</th>\n",
              "      <td>0.513393</td>\n",
              "      <td>0.515625</td>\n",
              "      <td>0.513393</td>\n",
              "      <td>0.513393</td>\n",
              "      <td>0.410525</td>\n",
              "      <td>117258400.0</td>\n",
              "    </tr>\n",
              "    <tr>\n",
              "      <th>1980-12-15</th>\n",
              "      <td>0.488839</td>\n",
              "      <td>0.488839</td>\n",
              "      <td>0.486607</td>\n",
              "      <td>0.486607</td>\n",
              "      <td>0.389106</td>\n",
              "      <td>43971200.0</td>\n",
              "    </tr>\n",
              "    <tr>\n",
              "      <th>1980-12-16</th>\n",
              "      <td>0.453125</td>\n",
              "      <td>0.453125</td>\n",
              "      <td>0.450893</td>\n",
              "      <td>0.450893</td>\n",
              "      <td>0.360548</td>\n",
              "      <td>26432000.0</td>\n",
              "    </tr>\n",
              "    <tr>\n",
              "      <th>1980-12-17</th>\n",
              "      <td>0.462054</td>\n",
              "      <td>0.464286</td>\n",
              "      <td>0.462054</td>\n",
              "      <td>0.462054</td>\n",
              "      <td>0.369472</td>\n",
              "      <td>21610400.0</td>\n",
              "    </tr>\n",
              "    <tr>\n",
              "      <th>1980-12-18</th>\n",
              "      <td>0.475446</td>\n",
              "      <td>0.477679</td>\n",
              "      <td>0.475446</td>\n",
              "      <td>0.475446</td>\n",
              "      <td>0.380182</td>\n",
              "      <td>18362400.0</td>\n",
              "    </tr>\n",
              "  </tbody>\n",
              "</table>\n",
              "</div>"
            ],
            "text/plain": [
              "                Open      High       Low     Close  Adj Close       Volume\n",
              "Date                                                                      \n",
              "1980-12-12  0.513393  0.515625  0.513393  0.513393   0.410525  117258400.0\n",
              "1980-12-15  0.488839  0.488839  0.486607  0.486607   0.389106   43971200.0\n",
              "1980-12-16  0.453125  0.453125  0.450893  0.450893   0.360548   26432000.0\n",
              "1980-12-17  0.462054  0.464286  0.462054  0.462054   0.369472   21610400.0\n",
              "1980-12-18  0.475446  0.477679  0.475446  0.475446   0.380182   18362400.0"
            ]
          },
          "metadata": {
            "tags": []
          },
          "execution_count": 10
        }
      ]
    },
    {
      "cell_type": "code",
      "metadata": {
        "id": "CGKuhU93FRD2",
        "colab_type": "code",
        "colab": {},
        "outputId": "6dd31a3d-cdf9-4c23-a9c5-8585ef2fcd63"
      },
      "source": [
        "print(aapl_df.head())\n",
        "print(type(aapl_df.index))\n",
        "print(type(aapl_df.index[0]))"
      ],
      "execution_count": null,
      "outputs": [
        {
          "output_type": "stream",
          "text": [
            "                Open      High       Low     Close  Adj Close       Volume\n",
            "Date                                                                      \n",
            "1980-12-12  0.513393  0.515625  0.513393  0.513393   0.410525  117258400.0\n",
            "1980-12-15  0.488839  0.488839  0.486607  0.486607   0.389106   43971200.0\n",
            "1980-12-16  0.453125  0.453125  0.450893  0.450893   0.360548   26432000.0\n",
            "1980-12-17  0.462054  0.464286  0.462054  0.462054   0.369472   21610400.0\n",
            "1980-12-18  0.475446  0.477679  0.475446  0.475446   0.380182   18362400.0\n",
            "<class 'pandas.core.indexes.datetimes.DatetimeIndex'>\n",
            "<class 'pandas._libs.tslibs.timestamps.Timestamp'>\n"
          ],
          "name": "stdout"
        }
      ]
    },
    {
      "cell_type": "code",
      "metadata": {
        "id": "k9rQKRLyFRD4",
        "colab_type": "code",
        "colab": {},
        "outputId": "2f0eb879-c9ea-426e-f341-1845a9f92295"
      },
      "source": [
        "print(type(aapl_df.index[0]))\n",
        "print(type(aapl_df.index))"
      ],
      "execution_count": null,
      "outputs": [
        {
          "output_type": "stream",
          "text": [
            "<class 'pandas._libs.tslibs.timestamps.Timestamp'>\n",
            "<class 'pandas.core.indexes.datetimes.DatetimeIndex'>\n"
          ],
          "name": "stdout"
        }
      ]
    },
    {
      "cell_type": "markdown",
      "metadata": {
        "id": "BQP1qgzFFRD6",
        "colab_type": "text"
      },
      "source": [
        "## 2.2.2 에러의 주된 원인을 처리하자\n",
        "\n",
        "\n",
        "* objective : Cleaning and preparing time series data\n",
        "1. 누락데이터가 있는지 확인한다. \n",
        "  - 어떻게 확인하는가?\n",
        "2. 누락 데이터는 fillna(method='ffill')"
      ]
    },
    {
      "cell_type": "code",
      "metadata": {
        "id": "MS9KPpbrFRD7",
        "colab_type": "code",
        "colab": {},
        "outputId": "2eee8590-0dcd-4c37-da57-e631f04a55da"
      },
      "source": [
        "import pandas as pd\n",
        "import numpy as np\n",
        "s1 = pd.Series([1,np.nan,3,4,5])\n",
        "s2 = pd.Series([1,2,np.nan,4,5])\n",
        "s3 = pd.Series([1,2,3,np.nan,5])\n",
        "df = pd.DataFrame({'S1':s1,\n",
        "                  'S2':s2,\n",
        "                  'S3':s3\n",
        "                  })\n",
        "df.head()"
      ],
      "execution_count": null,
      "outputs": [
        {
          "output_type": "execute_result",
          "data": {
            "text/html": [
              "<div>\n",
              "<style scoped>\n",
              "    .dataframe tbody tr th:only-of-type {\n",
              "        vertical-align: middle;\n",
              "    }\n",
              "\n",
              "    .dataframe tbody tr th {\n",
              "        vertical-align: top;\n",
              "    }\n",
              "\n",
              "    .dataframe thead th {\n",
              "        text-align: right;\n",
              "    }\n",
              "</style>\n",
              "<table border=\"1\" class=\"dataframe\">\n",
              "  <thead>\n",
              "    <tr style=\"text-align: right;\">\n",
              "      <th></th>\n",
              "      <th>S1</th>\n",
              "      <th>S2</th>\n",
              "      <th>S3</th>\n",
              "    </tr>\n",
              "  </thead>\n",
              "  <tbody>\n",
              "    <tr>\n",
              "      <td>0</td>\n",
              "      <td>1.0</td>\n",
              "      <td>1.0</td>\n",
              "      <td>1.0</td>\n",
              "    </tr>\n",
              "    <tr>\n",
              "      <td>1</td>\n",
              "      <td>NaN</td>\n",
              "      <td>2.0</td>\n",
              "      <td>2.0</td>\n",
              "    </tr>\n",
              "    <tr>\n",
              "      <td>2</td>\n",
              "      <td>3.0</td>\n",
              "      <td>NaN</td>\n",
              "      <td>3.0</td>\n",
              "    </tr>\n",
              "    <tr>\n",
              "      <td>3</td>\n",
              "      <td>4.0</td>\n",
              "      <td>4.0</td>\n",
              "      <td>NaN</td>\n",
              "    </tr>\n",
              "    <tr>\n",
              "      <td>4</td>\n",
              "      <td>5.0</td>\n",
              "      <td>5.0</td>\n",
              "      <td>5.0</td>\n",
              "    </tr>\n",
              "  </tbody>\n",
              "</table>\n",
              "</div>"
            ],
            "text/plain": [
              "    S1   S2   S3\n",
              "0  1.0  1.0  1.0\n",
              "1  NaN  2.0  2.0\n",
              "2  3.0  NaN  3.0\n",
              "3  4.0  4.0  NaN\n",
              "4  5.0  5.0  5.0"
            ]
          },
          "metadata": {
            "tags": []
          },
          "execution_count": 32
        }
      ]
    },
    {
      "cell_type": "code",
      "metadata": {
        "id": "OX9gkqVBFRD-",
        "colab_type": "code",
        "colab": {},
        "outputId": "bca34979-0fe3-43ae-9b83-4c776bc0ccf6"
      },
      "source": [
        "df['S1'].isna()"
      ],
      "execution_count": null,
      "outputs": [
        {
          "output_type": "execute_result",
          "data": {
            "text/plain": [
              "0    False\n",
              "1     True\n",
              "2    False\n",
              "3    False\n",
              "4    False\n",
              "Name: S1, dtype: bool"
            ]
          },
          "metadata": {
            "tags": []
          },
          "execution_count": 33
        }
      ]
    },
    {
      "cell_type": "code",
      "metadata": {
        "id": "NjPmT4tNFREB",
        "colab_type": "code",
        "colab": {},
        "outputId": "5ece1d5d-9123-45e5-bd07-5e05530a47ff"
      },
      "source": [
        "df.isna()"
      ],
      "execution_count": null,
      "outputs": [
        {
          "output_type": "execute_result",
          "data": {
            "text/html": [
              "<div>\n",
              "<style scoped>\n",
              "    .dataframe tbody tr th:only-of-type {\n",
              "        vertical-align: middle;\n",
              "    }\n",
              "\n",
              "    .dataframe tbody tr th {\n",
              "        vertical-align: top;\n",
              "    }\n",
              "\n",
              "    .dataframe thead th {\n",
              "        text-align: right;\n",
              "    }\n",
              "</style>\n",
              "<table border=\"1\" class=\"dataframe\">\n",
              "  <thead>\n",
              "    <tr style=\"text-align: right;\">\n",
              "      <th></th>\n",
              "      <th>S1</th>\n",
              "      <th>S2</th>\n",
              "      <th>S3</th>\n",
              "    </tr>\n",
              "  </thead>\n",
              "  <tbody>\n",
              "    <tr>\n",
              "      <td>0</td>\n",
              "      <td>False</td>\n",
              "      <td>False</td>\n",
              "      <td>False</td>\n",
              "    </tr>\n",
              "    <tr>\n",
              "      <td>1</td>\n",
              "      <td>True</td>\n",
              "      <td>False</td>\n",
              "      <td>False</td>\n",
              "    </tr>\n",
              "    <tr>\n",
              "      <td>2</td>\n",
              "      <td>False</td>\n",
              "      <td>True</td>\n",
              "      <td>False</td>\n",
              "    </tr>\n",
              "    <tr>\n",
              "      <td>3</td>\n",
              "      <td>False</td>\n",
              "      <td>False</td>\n",
              "      <td>True</td>\n",
              "    </tr>\n",
              "    <tr>\n",
              "      <td>4</td>\n",
              "      <td>False</td>\n",
              "      <td>False</td>\n",
              "      <td>False</td>\n",
              "    </tr>\n",
              "  </tbody>\n",
              "</table>\n",
              "</div>"
            ],
            "text/plain": [
              "      S1     S2     S3\n",
              "0  False  False  False\n",
              "1   True  False  False\n",
              "2  False   True  False\n",
              "3  False  False   True\n",
              "4  False  False  False"
            ]
          },
          "metadata": {
            "tags": []
          },
          "execution_count": 34
        }
      ]
    },
    {
      "cell_type": "code",
      "metadata": {
        "id": "61zdG8J8FRED",
        "colab_type": "code",
        "colab": {},
        "outputId": "4ea66be7-3d23-4710-91a1-40906039fec2"
      },
      "source": [
        "True == 1"
      ],
      "execution_count": null,
      "outputs": [
        {
          "output_type": "execute_result",
          "data": {
            "text/plain": [
              "True"
            ]
          },
          "metadata": {
            "tags": []
          },
          "execution_count": 35
        }
      ]
    },
    {
      "cell_type": "code",
      "metadata": {
        "id": "1wr6rduLFREF",
        "colab_type": "code",
        "colab": {},
        "outputId": "f1aae02b-d94d-4db9-f0d6-1ab093cd2cda"
      },
      "source": [
        "False == 0"
      ],
      "execution_count": null,
      "outputs": [
        {
          "output_type": "execute_result",
          "data": {
            "text/plain": [
              "True"
            ]
          },
          "metadata": {
            "tags": []
          },
          "execution_count": 36
        }
      ]
    },
    {
      "cell_type": "code",
      "metadata": {
        "id": "J7sOuRDCFREI",
        "colab_type": "code",
        "colab": {},
        "outputId": "3f75a04a-5542-4f06-ea6c-3bf39462c895"
      },
      "source": [
        "True == 0"
      ],
      "execution_count": null,
      "outputs": [
        {
          "output_type": "execute_result",
          "data": {
            "text/plain": [
              "False"
            ]
          },
          "metadata": {
            "tags": []
          },
          "execution_count": 37
        }
      ]
    },
    {
      "cell_type": "code",
      "metadata": {
        "id": "tPk0dOtOFREK",
        "colab_type": "code",
        "colab": {},
        "outputId": "d8edc076-b7f5-44e6-89a9-6fb523b3d39d"
      },
      "source": [
        "False == 1"
      ],
      "execution_count": null,
      "outputs": [
        {
          "output_type": "execute_result",
          "data": {
            "text/plain": [
              "False"
            ]
          },
          "metadata": {
            "tags": []
          },
          "execution_count": 38
        }
      ]
    },
    {
      "cell_type": "code",
      "metadata": {
        "id": "HTnwNNorFREN",
        "colab_type": "code",
        "colab": {},
        "outputId": "a1a25f50-f21c-431f-cb9e-900907be4d16"
      },
      "source": [
        "df.isna().sum()"
      ],
      "execution_count": null,
      "outputs": [
        {
          "output_type": "execute_result",
          "data": {
            "text/plain": [
              "S1    1\n",
              "S2    1\n",
              "S3    1\n",
              "dtype: int64"
            ]
          },
          "metadata": {
            "tags": []
          },
          "execution_count": 39
        }
      ]
    },
    {
      "cell_type": "code",
      "metadata": {
        "id": "MDn33v_VFRES",
        "colab_type": "code",
        "colab": {},
        "outputId": "b9f951de-5ab4-454b-b0a0-bf813d53f18a"
      },
      "source": [
        "df.count()"
      ],
      "execution_count": null,
      "outputs": [
        {
          "output_type": "execute_result",
          "data": {
            "text/plain": [
              "S1    4\n",
              "S2    4\n",
              "S3    4\n",
              "dtype: int64"
            ]
          },
          "metadata": {
            "tags": []
          },
          "execution_count": 40
        }
      ]
    },
    {
      "cell_type": "code",
      "metadata": {
        "id": "IjPZDwsLFREU",
        "colab_type": "code",
        "colab": {},
        "outputId": "edf00129-2f00-4f0f-d8da-f6849dd862cf"
      },
      "source": [
        "df.isna().count"
      ],
      "execution_count": null,
      "outputs": [
        {
          "output_type": "execute_result",
          "data": {
            "text/plain": [
              "<bound method DataFrame.count of       S1     S2     S3\n",
              "0  False  False  False\n",
              "1   True  False  False\n",
              "2  False   True  False\n",
              "3  False  False   True\n",
              "4  False  False  False>"
            ]
          },
          "metadata": {
            "tags": []
          },
          "execution_count": 41
        }
      ]
    },
    {
      "cell_type": "code",
      "metadata": {
        "id": "Didy7YkxFREW",
        "colab_type": "code",
        "colab": {},
        "outputId": "f21e4664-db7c-4fa0-dd25-af6a656e4d44"
      },
      "source": [
        "df.isin([np.nan])"
      ],
      "execution_count": null,
      "outputs": [
        {
          "output_type": "execute_result",
          "data": {
            "text/html": [
              "<div>\n",
              "<style scoped>\n",
              "    .dataframe tbody tr th:only-of-type {\n",
              "        vertical-align: middle;\n",
              "    }\n",
              "\n",
              "    .dataframe tbody tr th {\n",
              "        vertical-align: top;\n",
              "    }\n",
              "\n",
              "    .dataframe thead th {\n",
              "        text-align: right;\n",
              "    }\n",
              "</style>\n",
              "<table border=\"1\" class=\"dataframe\">\n",
              "  <thead>\n",
              "    <tr style=\"text-align: right;\">\n",
              "      <th></th>\n",
              "      <th>S1</th>\n",
              "      <th>S2</th>\n",
              "      <th>S3</th>\n",
              "    </tr>\n",
              "  </thead>\n",
              "  <tbody>\n",
              "    <tr>\n",
              "      <td>0</td>\n",
              "      <td>False</td>\n",
              "      <td>False</td>\n",
              "      <td>False</td>\n",
              "    </tr>\n",
              "    <tr>\n",
              "      <td>1</td>\n",
              "      <td>True</td>\n",
              "      <td>False</td>\n",
              "      <td>False</td>\n",
              "    </tr>\n",
              "    <tr>\n",
              "      <td>2</td>\n",
              "      <td>False</td>\n",
              "      <td>True</td>\n",
              "      <td>False</td>\n",
              "    </tr>\n",
              "    <tr>\n",
              "      <td>3</td>\n",
              "      <td>False</td>\n",
              "      <td>False</td>\n",
              "      <td>True</td>\n",
              "    </tr>\n",
              "    <tr>\n",
              "      <td>4</td>\n",
              "      <td>False</td>\n",
              "      <td>False</td>\n",
              "      <td>False</td>\n",
              "    </tr>\n",
              "  </tbody>\n",
              "</table>\n",
              "</div>"
            ],
            "text/plain": [
              "      S1     S2     S3\n",
              "0  False  False  False\n",
              "1   True  False  False\n",
              "2  False   True  False\n",
              "3  False  False   True\n",
              "4  False  False  False"
            ]
          },
          "metadata": {
            "tags": []
          },
          "execution_count": 42
        }
      ]
    },
    {
      "cell_type": "code",
      "metadata": {
        "id": "WE8cl9vvFREY",
        "colab_type": "code",
        "colab": {},
        "outputId": "fa851ba6-b532-43bf-a6a1-35969477237e"
      },
      "source": [
        "df.isin([np.nan]).sum()"
      ],
      "execution_count": null,
      "outputs": [
        {
          "output_type": "execute_result",
          "data": {
            "text/plain": [
              "S1    1\n",
              "S2    1\n",
              "S3    1\n",
              "dtype: int64"
            ]
          },
          "metadata": {
            "tags": []
          },
          "execution_count": 43
        }
      ]
    },
    {
      "cell_type": "code",
      "metadata": {
        "id": "eZiHW9E9FREa",
        "colab_type": "code",
        "colab": {},
        "outputId": "31a6fb01-7ef4-4ba0-d391-e179f13a5c27"
      },
      "source": [
        "df.isnull()"
      ],
      "execution_count": null,
      "outputs": [
        {
          "output_type": "execute_result",
          "data": {
            "text/html": [
              "<div>\n",
              "<style scoped>\n",
              "    .dataframe tbody tr th:only-of-type {\n",
              "        vertical-align: middle;\n",
              "    }\n",
              "\n",
              "    .dataframe tbody tr th {\n",
              "        vertical-align: top;\n",
              "    }\n",
              "\n",
              "    .dataframe thead th {\n",
              "        text-align: right;\n",
              "    }\n",
              "</style>\n",
              "<table border=\"1\" class=\"dataframe\">\n",
              "  <thead>\n",
              "    <tr style=\"text-align: right;\">\n",
              "      <th></th>\n",
              "      <th>S1</th>\n",
              "      <th>S2</th>\n",
              "      <th>S3</th>\n",
              "    </tr>\n",
              "  </thead>\n",
              "  <tbody>\n",
              "    <tr>\n",
              "      <td>0</td>\n",
              "      <td>False</td>\n",
              "      <td>False</td>\n",
              "      <td>False</td>\n",
              "    </tr>\n",
              "    <tr>\n",
              "      <td>1</td>\n",
              "      <td>True</td>\n",
              "      <td>False</td>\n",
              "      <td>False</td>\n",
              "    </tr>\n",
              "    <tr>\n",
              "      <td>2</td>\n",
              "      <td>False</td>\n",
              "      <td>True</td>\n",
              "      <td>False</td>\n",
              "    </tr>\n",
              "    <tr>\n",
              "      <td>3</td>\n",
              "      <td>False</td>\n",
              "      <td>False</td>\n",
              "      <td>True</td>\n",
              "    </tr>\n",
              "    <tr>\n",
              "      <td>4</td>\n",
              "      <td>False</td>\n",
              "      <td>False</td>\n",
              "      <td>False</td>\n",
              "    </tr>\n",
              "  </tbody>\n",
              "</table>\n",
              "</div>"
            ],
            "text/plain": [
              "      S1     S2     S3\n",
              "0  False  False  False\n",
              "1   True  False  False\n",
              "2  False   True  False\n",
              "3  False  False   True\n",
              "4  False  False  False"
            ]
          },
          "metadata": {
            "tags": []
          },
          "execution_count": 44
        }
      ]
    },
    {
      "cell_type": "code",
      "metadata": {
        "id": "M-Exum1SFREc",
        "colab_type": "code",
        "colab": {},
        "outputId": "b7fda224-1f4f-4f05-f378-6b982bd6c4b7"
      },
      "source": [
        "df.isnull().sum()"
      ],
      "execution_count": null,
      "outputs": [
        {
          "output_type": "execute_result",
          "data": {
            "text/plain": [
              "S1    1\n",
              "S2    1\n",
              "S3    1\n",
              "dtype: int64"
            ]
          },
          "metadata": {
            "tags": []
          },
          "execution_count": 45
        }
      ]
    },
    {
      "cell_type": "code",
      "metadata": {
        "id": "kR_nY1-pFREe",
        "colab_type": "code",
        "colab": {},
        "outputId": "4fc75707-7fac-46c7-b6de-efb15d586155"
      },
      "source": [
        "df[df.isna().any(1)]"
      ],
      "execution_count": null,
      "outputs": [
        {
          "output_type": "execute_result",
          "data": {
            "text/html": [
              "<div>\n",
              "<style scoped>\n",
              "    .dataframe tbody tr th:only-of-type {\n",
              "        vertical-align: middle;\n",
              "    }\n",
              "\n",
              "    .dataframe tbody tr th {\n",
              "        vertical-align: top;\n",
              "    }\n",
              "\n",
              "    .dataframe thead th {\n",
              "        text-align: right;\n",
              "    }\n",
              "</style>\n",
              "<table border=\"1\" class=\"dataframe\">\n",
              "  <thead>\n",
              "    <tr style=\"text-align: right;\">\n",
              "      <th></th>\n",
              "      <th>S1</th>\n",
              "      <th>S2</th>\n",
              "      <th>S3</th>\n",
              "    </tr>\n",
              "  </thead>\n",
              "  <tbody>\n",
              "    <tr>\n",
              "      <td>1</td>\n",
              "      <td>NaN</td>\n",
              "      <td>2.0</td>\n",
              "      <td>2.0</td>\n",
              "    </tr>\n",
              "    <tr>\n",
              "      <td>2</td>\n",
              "      <td>3.0</td>\n",
              "      <td>NaN</td>\n",
              "      <td>3.0</td>\n",
              "    </tr>\n",
              "    <tr>\n",
              "      <td>3</td>\n",
              "      <td>4.0</td>\n",
              "      <td>4.0</td>\n",
              "      <td>NaN</td>\n",
              "    </tr>\n",
              "  </tbody>\n",
              "</table>\n",
              "</div>"
            ],
            "text/plain": [
              "    S1   S2   S3\n",
              "1  NaN  2.0  2.0\n",
              "2  3.0  NaN  3.0\n",
              "3  4.0  4.0  NaN"
            ]
          },
          "metadata": {
            "tags": []
          },
          "execution_count": 46
        }
      ]
    },
    {
      "cell_type": "code",
      "metadata": {
        "id": "poQMaf8OFREi",
        "colab_type": "code",
        "colab": {},
        "outputId": "5124b908-041d-4c97-faf4-b0efaf4fd334"
      },
      "source": [
        "df[df.isin([np.nan]).any(1)]"
      ],
      "execution_count": null,
      "outputs": [
        {
          "output_type": "execute_result",
          "data": {
            "text/html": [
              "<div>\n",
              "<style scoped>\n",
              "    .dataframe tbody tr th:only-of-type {\n",
              "        vertical-align: middle;\n",
              "    }\n",
              "\n",
              "    .dataframe tbody tr th {\n",
              "        vertical-align: top;\n",
              "    }\n",
              "\n",
              "    .dataframe thead th {\n",
              "        text-align: right;\n",
              "    }\n",
              "</style>\n",
              "<table border=\"1\" class=\"dataframe\">\n",
              "  <thead>\n",
              "    <tr style=\"text-align: right;\">\n",
              "      <th></th>\n",
              "      <th>S1</th>\n",
              "      <th>S2</th>\n",
              "      <th>S3</th>\n",
              "    </tr>\n",
              "  </thead>\n",
              "  <tbody>\n",
              "    <tr>\n",
              "      <td>1</td>\n",
              "      <td>NaN</td>\n",
              "      <td>2.0</td>\n",
              "      <td>2.0</td>\n",
              "    </tr>\n",
              "    <tr>\n",
              "      <td>2</td>\n",
              "      <td>3.0</td>\n",
              "      <td>NaN</td>\n",
              "      <td>3.0</td>\n",
              "    </tr>\n",
              "    <tr>\n",
              "      <td>3</td>\n",
              "      <td>4.0</td>\n",
              "      <td>4.0</td>\n",
              "      <td>NaN</td>\n",
              "    </tr>\n",
              "  </tbody>\n",
              "</table>\n",
              "</div>"
            ],
            "text/plain": [
              "    S1   S2   S3\n",
              "1  NaN  2.0  2.0\n",
              "2  3.0  NaN  3.0\n",
              "3  4.0  4.0  NaN"
            ]
          },
          "metadata": {
            "tags": []
          },
          "execution_count": 47
        }
      ]
    },
    {
      "cell_type": "code",
      "metadata": {
        "id": "QHGnfAlTFREk",
        "colab_type": "code",
        "colab": {},
        "outputId": "ae499f55-5442-42af-f9d3-887a5b7fb945"
      },
      "source": [
        "df.fillna(0)"
      ],
      "execution_count": null,
      "outputs": [
        {
          "output_type": "execute_result",
          "data": {
            "text/html": [
              "<div>\n",
              "<style scoped>\n",
              "    .dataframe tbody tr th:only-of-type {\n",
              "        vertical-align: middle;\n",
              "    }\n",
              "\n",
              "    .dataframe tbody tr th {\n",
              "        vertical-align: top;\n",
              "    }\n",
              "\n",
              "    .dataframe thead th {\n",
              "        text-align: right;\n",
              "    }\n",
              "</style>\n",
              "<table border=\"1\" class=\"dataframe\">\n",
              "  <thead>\n",
              "    <tr style=\"text-align: right;\">\n",
              "      <th></th>\n",
              "      <th>S1</th>\n",
              "      <th>S2</th>\n",
              "      <th>S3</th>\n",
              "    </tr>\n",
              "  </thead>\n",
              "  <tbody>\n",
              "    <tr>\n",
              "      <td>0</td>\n",
              "      <td>1.0</td>\n",
              "      <td>1.0</td>\n",
              "      <td>1.0</td>\n",
              "    </tr>\n",
              "    <tr>\n",
              "      <td>1</td>\n",
              "      <td>0.0</td>\n",
              "      <td>2.0</td>\n",
              "      <td>2.0</td>\n",
              "    </tr>\n",
              "    <tr>\n",
              "      <td>2</td>\n",
              "      <td>3.0</td>\n",
              "      <td>0.0</td>\n",
              "      <td>3.0</td>\n",
              "    </tr>\n",
              "    <tr>\n",
              "      <td>3</td>\n",
              "      <td>4.0</td>\n",
              "      <td>4.0</td>\n",
              "      <td>0.0</td>\n",
              "    </tr>\n",
              "    <tr>\n",
              "      <td>4</td>\n",
              "      <td>5.0</td>\n",
              "      <td>5.0</td>\n",
              "      <td>5.0</td>\n",
              "    </tr>\n",
              "  </tbody>\n",
              "</table>\n",
              "</div>"
            ],
            "text/plain": [
              "    S1   S2   S3\n",
              "0  1.0  1.0  1.0\n",
              "1  0.0  2.0  2.0\n",
              "2  3.0  0.0  3.0\n",
              "3  4.0  4.0  0.0\n",
              "4  5.0  5.0  5.0"
            ]
          },
          "metadata": {
            "tags": []
          },
          "execution_count": 48
        }
      ]
    },
    {
      "cell_type": "code",
      "metadata": {
        "id": "1msgUkKJFREm",
        "colab_type": "code",
        "colab": {},
        "outputId": "b529e091-259c-4e7c-99a4-09442c73bcc4"
      },
      "source": [
        "df.fillna(method='pad')"
      ],
      "execution_count": null,
      "outputs": [
        {
          "output_type": "execute_result",
          "data": {
            "text/html": [
              "<div>\n",
              "<style scoped>\n",
              "    .dataframe tbody tr th:only-of-type {\n",
              "        vertical-align: middle;\n",
              "    }\n",
              "\n",
              "    .dataframe tbody tr th {\n",
              "        vertical-align: top;\n",
              "    }\n",
              "\n",
              "    .dataframe thead th {\n",
              "        text-align: right;\n",
              "    }\n",
              "</style>\n",
              "<table border=\"1\" class=\"dataframe\">\n",
              "  <thead>\n",
              "    <tr style=\"text-align: right;\">\n",
              "      <th></th>\n",
              "      <th>S1</th>\n",
              "      <th>S2</th>\n",
              "      <th>S3</th>\n",
              "    </tr>\n",
              "  </thead>\n",
              "  <tbody>\n",
              "    <tr>\n",
              "      <td>0</td>\n",
              "      <td>1.0</td>\n",
              "      <td>1.0</td>\n",
              "      <td>1.0</td>\n",
              "    </tr>\n",
              "    <tr>\n",
              "      <td>1</td>\n",
              "      <td>1.0</td>\n",
              "      <td>2.0</td>\n",
              "      <td>2.0</td>\n",
              "    </tr>\n",
              "    <tr>\n",
              "      <td>2</td>\n",
              "      <td>3.0</td>\n",
              "      <td>2.0</td>\n",
              "      <td>3.0</td>\n",
              "    </tr>\n",
              "    <tr>\n",
              "      <td>3</td>\n",
              "      <td>4.0</td>\n",
              "      <td>4.0</td>\n",
              "      <td>3.0</td>\n",
              "    </tr>\n",
              "    <tr>\n",
              "      <td>4</td>\n",
              "      <td>5.0</td>\n",
              "      <td>5.0</td>\n",
              "      <td>5.0</td>\n",
              "    </tr>\n",
              "  </tbody>\n",
              "</table>\n",
              "</div>"
            ],
            "text/plain": [
              "    S1   S2   S3\n",
              "0  1.0  1.0  1.0\n",
              "1  1.0  2.0  2.0\n",
              "2  3.0  2.0  3.0\n",
              "3  4.0  4.0  3.0\n",
              "4  5.0  5.0  5.0"
            ]
          },
          "metadata": {
            "tags": []
          },
          "execution_count": 49
        }
      ]
    },
    {
      "cell_type": "code",
      "metadata": {
        "id": "_rr6AGNdFREn",
        "colab_type": "code",
        "colab": {},
        "outputId": "400c309c-57ba-48d5-fbfb-3fb6516bad1f"
      },
      "source": [
        "df.fillna(method='ffill')"
      ],
      "execution_count": null,
      "outputs": [
        {
          "output_type": "execute_result",
          "data": {
            "text/html": [
              "<div>\n",
              "<style scoped>\n",
              "    .dataframe tbody tr th:only-of-type {\n",
              "        vertical-align: middle;\n",
              "    }\n",
              "\n",
              "    .dataframe tbody tr th {\n",
              "        vertical-align: top;\n",
              "    }\n",
              "\n",
              "    .dataframe thead th {\n",
              "        text-align: right;\n",
              "    }\n",
              "</style>\n",
              "<table border=\"1\" class=\"dataframe\">\n",
              "  <thead>\n",
              "    <tr style=\"text-align: right;\">\n",
              "      <th></th>\n",
              "      <th>S1</th>\n",
              "      <th>S2</th>\n",
              "      <th>S3</th>\n",
              "    </tr>\n",
              "  </thead>\n",
              "  <tbody>\n",
              "    <tr>\n",
              "      <td>0</td>\n",
              "      <td>1.0</td>\n",
              "      <td>1.0</td>\n",
              "      <td>1.0</td>\n",
              "    </tr>\n",
              "    <tr>\n",
              "      <td>1</td>\n",
              "      <td>1.0</td>\n",
              "      <td>2.0</td>\n",
              "      <td>2.0</td>\n",
              "    </tr>\n",
              "    <tr>\n",
              "      <td>2</td>\n",
              "      <td>3.0</td>\n",
              "      <td>2.0</td>\n",
              "      <td>3.0</td>\n",
              "    </tr>\n",
              "    <tr>\n",
              "      <td>3</td>\n",
              "      <td>4.0</td>\n",
              "      <td>4.0</td>\n",
              "      <td>3.0</td>\n",
              "    </tr>\n",
              "    <tr>\n",
              "      <td>4</td>\n",
              "      <td>5.0</td>\n",
              "      <td>5.0</td>\n",
              "      <td>5.0</td>\n",
              "    </tr>\n",
              "  </tbody>\n",
              "</table>\n",
              "</div>"
            ],
            "text/plain": [
              "    S1   S2   S3\n",
              "0  1.0  1.0  1.0\n",
              "1  1.0  2.0  2.0\n",
              "2  3.0  2.0  3.0\n",
              "3  4.0  4.0  3.0\n",
              "4  5.0  5.0  5.0"
            ]
          },
          "metadata": {
            "tags": []
          },
          "execution_count": 50
        }
      ]
    },
    {
      "cell_type": "code",
      "metadata": {
        "id": "H_oXplIyFREq",
        "colab_type": "code",
        "colab": {},
        "outputId": "4c28788b-10ba-40f5-ffe0-e706ce32a62d"
      },
      "source": [
        "df.fillna(method='bfill')"
      ],
      "execution_count": null,
      "outputs": [
        {
          "output_type": "execute_result",
          "data": {
            "text/html": [
              "<div>\n",
              "<style scoped>\n",
              "    .dataframe tbody tr th:only-of-type {\n",
              "        vertical-align: middle;\n",
              "    }\n",
              "\n",
              "    .dataframe tbody tr th {\n",
              "        vertical-align: top;\n",
              "    }\n",
              "\n",
              "    .dataframe thead th {\n",
              "        text-align: right;\n",
              "    }\n",
              "</style>\n",
              "<table border=\"1\" class=\"dataframe\">\n",
              "  <thead>\n",
              "    <tr style=\"text-align: right;\">\n",
              "      <th></th>\n",
              "      <th>S1</th>\n",
              "      <th>S2</th>\n",
              "      <th>S3</th>\n",
              "    </tr>\n",
              "  </thead>\n",
              "  <tbody>\n",
              "    <tr>\n",
              "      <td>0</td>\n",
              "      <td>1.0</td>\n",
              "      <td>1.0</td>\n",
              "      <td>1.0</td>\n",
              "    </tr>\n",
              "    <tr>\n",
              "      <td>1</td>\n",
              "      <td>3.0</td>\n",
              "      <td>2.0</td>\n",
              "      <td>2.0</td>\n",
              "    </tr>\n",
              "    <tr>\n",
              "      <td>2</td>\n",
              "      <td>3.0</td>\n",
              "      <td>4.0</td>\n",
              "      <td>3.0</td>\n",
              "    </tr>\n",
              "    <tr>\n",
              "      <td>3</td>\n",
              "      <td>4.0</td>\n",
              "      <td>4.0</td>\n",
              "      <td>5.0</td>\n",
              "    </tr>\n",
              "    <tr>\n",
              "      <td>4</td>\n",
              "      <td>5.0</td>\n",
              "      <td>5.0</td>\n",
              "      <td>5.0</td>\n",
              "    </tr>\n",
              "  </tbody>\n",
              "</table>\n",
              "</div>"
            ],
            "text/plain": [
              "    S1   S2   S3\n",
              "0  1.0  1.0  1.0\n",
              "1  3.0  2.0  2.0\n",
              "2  3.0  4.0  3.0\n",
              "3  4.0  4.0  5.0\n",
              "4  5.0  5.0  5.0"
            ]
          },
          "metadata": {
            "tags": []
          },
          "execution_count": 51
        }
      ]
    },
    {
      "cell_type": "code",
      "metadata": {
        "id": "BsgqmuV_FREt",
        "colab_type": "code",
        "colab": {},
        "outputId": "3899084f-94c1-4d77-bb5d-4db161eb833a"
      },
      "source": [
        "df.dropna(axis=0)"
      ],
      "execution_count": null,
      "outputs": [
        {
          "output_type": "execute_result",
          "data": {
            "text/html": [
              "<div>\n",
              "<style scoped>\n",
              "    .dataframe tbody tr th:only-of-type {\n",
              "        vertical-align: middle;\n",
              "    }\n",
              "\n",
              "    .dataframe tbody tr th {\n",
              "        vertical-align: top;\n",
              "    }\n",
              "\n",
              "    .dataframe thead th {\n",
              "        text-align: right;\n",
              "    }\n",
              "</style>\n",
              "<table border=\"1\" class=\"dataframe\">\n",
              "  <thead>\n",
              "    <tr style=\"text-align: right;\">\n",
              "      <th></th>\n",
              "      <th>S1</th>\n",
              "      <th>S2</th>\n",
              "      <th>S3</th>\n",
              "    </tr>\n",
              "  </thead>\n",
              "  <tbody>\n",
              "    <tr>\n",
              "      <td>0</td>\n",
              "      <td>1.0</td>\n",
              "      <td>1.0</td>\n",
              "      <td>1.0</td>\n",
              "    </tr>\n",
              "    <tr>\n",
              "      <td>4</td>\n",
              "      <td>5.0</td>\n",
              "      <td>5.0</td>\n",
              "      <td>5.0</td>\n",
              "    </tr>\n",
              "  </tbody>\n",
              "</table>\n",
              "</div>"
            ],
            "text/plain": [
              "    S1   S2   S3\n",
              "0  1.0  1.0  1.0\n",
              "4  5.0  5.0  5.0"
            ]
          },
          "metadata": {
            "tags": []
          },
          "execution_count": 52
        }
      ]
    },
    {
      "cell_type": "code",
      "metadata": {
        "id": "5EMn58ZgFREv",
        "colab_type": "code",
        "colab": {},
        "outputId": "0350594c-345f-49bd-afd5-d7bb27af6f84"
      },
      "source": [
        "df.dropna(axis='rows')"
      ],
      "execution_count": null,
      "outputs": [
        {
          "output_type": "execute_result",
          "data": {
            "text/html": [
              "<div>\n",
              "<style scoped>\n",
              "    .dataframe tbody tr th:only-of-type {\n",
              "        vertical-align: middle;\n",
              "    }\n",
              "\n",
              "    .dataframe tbody tr th {\n",
              "        vertical-align: top;\n",
              "    }\n",
              "\n",
              "    .dataframe thead th {\n",
              "        text-align: right;\n",
              "    }\n",
              "</style>\n",
              "<table border=\"1\" class=\"dataframe\">\n",
              "  <thead>\n",
              "    <tr style=\"text-align: right;\">\n",
              "      <th></th>\n",
              "      <th>S1</th>\n",
              "      <th>S2</th>\n",
              "      <th>S3</th>\n",
              "    </tr>\n",
              "  </thead>\n",
              "  <tbody>\n",
              "    <tr>\n",
              "      <td>0</td>\n",
              "      <td>1.0</td>\n",
              "      <td>1.0</td>\n",
              "      <td>1.0</td>\n",
              "    </tr>\n",
              "    <tr>\n",
              "      <td>4</td>\n",
              "      <td>5.0</td>\n",
              "      <td>5.0</td>\n",
              "      <td>5.0</td>\n",
              "    </tr>\n",
              "  </tbody>\n",
              "</table>\n",
              "</div>"
            ],
            "text/plain": [
              "    S1   S2   S3\n",
              "0  1.0  1.0  1.0\n",
              "4  5.0  5.0  5.0"
            ]
          },
          "metadata": {
            "tags": []
          },
          "execution_count": 53
        }
      ]
    },
    {
      "cell_type": "code",
      "metadata": {
        "id": "Pf3TcccyFREx",
        "colab_type": "code",
        "colab": {},
        "outputId": "d95cb1ad-9a4a-4bfa-c838-94255b7e9d38"
      },
      "source": [
        "df.dropna(axis=1)"
      ],
      "execution_count": null,
      "outputs": [
        {
          "output_type": "execute_result",
          "data": {
            "text/html": [
              "<div>\n",
              "<style scoped>\n",
              "    .dataframe tbody tr th:only-of-type {\n",
              "        vertical-align: middle;\n",
              "    }\n",
              "\n",
              "    .dataframe tbody tr th {\n",
              "        vertical-align: top;\n",
              "    }\n",
              "\n",
              "    .dataframe thead th {\n",
              "        text-align: right;\n",
              "    }\n",
              "</style>\n",
              "<table border=\"1\" class=\"dataframe\">\n",
              "  <thead>\n",
              "    <tr style=\"text-align: right;\">\n",
              "      <th></th>\n",
              "    </tr>\n",
              "  </thead>\n",
              "  <tbody>\n",
              "    <tr>\n",
              "      <td>0</td>\n",
              "    </tr>\n",
              "    <tr>\n",
              "      <td>1</td>\n",
              "    </tr>\n",
              "    <tr>\n",
              "      <td>2</td>\n",
              "    </tr>\n",
              "    <tr>\n",
              "      <td>3</td>\n",
              "    </tr>\n",
              "    <tr>\n",
              "      <td>4</td>\n",
              "    </tr>\n",
              "  </tbody>\n",
              "</table>\n",
              "</div>"
            ],
            "text/plain": [
              "Empty DataFrame\n",
              "Columns: []\n",
              "Index: [0, 1, 2, 3, 4]"
            ]
          },
          "metadata": {
            "tags": []
          },
          "execution_count": 54
        }
      ]
    },
    {
      "cell_type": "code",
      "metadata": {
        "id": "cSgvqbTgFREz",
        "colab_type": "code",
        "colab": {},
        "outputId": "37fa9735-e5b5-403d-f181-e60c56496e03"
      },
      "source": [
        "df.dropna(axis='columns')"
      ],
      "execution_count": null,
      "outputs": [
        {
          "output_type": "execute_result",
          "data": {
            "text/html": [
              "<div>\n",
              "<style scoped>\n",
              "    .dataframe tbody tr th:only-of-type {\n",
              "        vertical-align: middle;\n",
              "    }\n",
              "\n",
              "    .dataframe tbody tr th {\n",
              "        vertical-align: top;\n",
              "    }\n",
              "\n",
              "    .dataframe thead th {\n",
              "        text-align: right;\n",
              "    }\n",
              "</style>\n",
              "<table border=\"1\" class=\"dataframe\">\n",
              "  <thead>\n",
              "    <tr style=\"text-align: right;\">\n",
              "      <th></th>\n",
              "    </tr>\n",
              "  </thead>\n",
              "  <tbody>\n",
              "    <tr>\n",
              "      <td>0</td>\n",
              "    </tr>\n",
              "    <tr>\n",
              "      <td>1</td>\n",
              "    </tr>\n",
              "    <tr>\n",
              "      <td>2</td>\n",
              "    </tr>\n",
              "    <tr>\n",
              "      <td>3</td>\n",
              "    </tr>\n",
              "    <tr>\n",
              "      <td>4</td>\n",
              "    </tr>\n",
              "  </tbody>\n",
              "</table>\n",
              "</div>"
            ],
            "text/plain": [
              "Empty DataFrame\n",
              "Columns: []\n",
              "Index: [0, 1, 2, 3, 4]"
            ]
          },
          "metadata": {
            "tags": []
          },
          "execution_count": 55
        }
      ]
    },
    {
      "cell_type": "markdown",
      "metadata": {
        "id": "D5qzNDyUFRE1",
        "colab_type": "text"
      },
      "source": [
        "* 실제 종목 데이터로 확인해보자."
      ]
    },
    {
      "cell_type": "code",
      "metadata": {
        "id": "DJHAES3eFRE1",
        "colab_type": "code",
        "colab": {},
        "outputId": "1c64377a-0d99-4d98-f857-ce8a8b102816"
      },
      "source": [
        "import pandas as pd\n",
        "aapl_df = pd.read_csv('./data/us_etf_data\\AAPL.csv',index_col='Date', parse_dates=['Date'])\n",
        "# aapl_df.head()\n",
        "aapl_df.isna().sum()"
      ],
      "execution_count": null,
      "outputs": [
        {
          "output_type": "execute_result",
          "data": {
            "text/plain": [
              "Open         1\n",
              "High         1\n",
              "Low          1\n",
              "Close        1\n",
              "Adj Close    1\n",
              "Volume       1\n",
              "dtype: int64"
            ]
          },
          "metadata": {
            "tags": []
          },
          "execution_count": 1
        }
      ]
    },
    {
      "cell_type": "code",
      "metadata": {
        "id": "ucrCb29EFRE3",
        "colab_type": "code",
        "colab": {},
        "outputId": "af10e880-6ea3-468a-fd3a-fdcdff949d29"
      },
      "source": [
        "import numpy as np\n",
        "aapl_df[aapl_df.isin([np.nan, np.inf, -np.inf]).any(1)]"
      ],
      "execution_count": null,
      "outputs": [
        {
          "output_type": "execute_result",
          "data": {
            "text/html": [
              "<div>\n",
              "<style scoped>\n",
              "    .dataframe tbody tr th:only-of-type {\n",
              "        vertical-align: middle;\n",
              "    }\n",
              "\n",
              "    .dataframe tbody tr th {\n",
              "        vertical-align: top;\n",
              "    }\n",
              "\n",
              "    .dataframe thead th {\n",
              "        text-align: right;\n",
              "    }\n",
              "</style>\n",
              "<table border=\"1\" class=\"dataframe\">\n",
              "  <thead>\n",
              "    <tr style=\"text-align: right;\">\n",
              "      <th></th>\n",
              "      <th>Open</th>\n",
              "      <th>High</th>\n",
              "      <th>Low</th>\n",
              "      <th>Close</th>\n",
              "      <th>Adj Close</th>\n",
              "      <th>Volume</th>\n",
              "    </tr>\n",
              "    <tr>\n",
              "      <th>Date</th>\n",
              "      <th></th>\n",
              "      <th></th>\n",
              "      <th></th>\n",
              "      <th></th>\n",
              "      <th></th>\n",
              "      <th></th>\n",
              "    </tr>\n",
              "  </thead>\n",
              "  <tbody>\n",
              "    <tr>\n",
              "      <th>1981-08-10</th>\n",
              "      <td>NaN</td>\n",
              "      <td>NaN</td>\n",
              "      <td>NaN</td>\n",
              "      <td>NaN</td>\n",
              "      <td>NaN</td>\n",
              "      <td>NaN</td>\n",
              "    </tr>\n",
              "  </tbody>\n",
              "</table>\n",
              "</div>"
            ],
            "text/plain": [
              "            Open  High  Low  Close  Adj Close  Volume\n",
              "Date                                                 \n",
              "1981-08-10   NaN   NaN  NaN    NaN        NaN     NaN"
            ]
          },
          "metadata": {
            "tags": []
          },
          "execution_count": 3
        }
      ]
    },
    {
      "cell_type": "markdown",
      "metadata": {
        "id": "7UbJz7nVFRE6",
        "colab_type": "text"
      },
      "source": [
        "## 2.2.3가장 자주 쓰이는 데이터 선택방법(슬라이싱, 인덱싱, 서브셋 데이터 추출)"
      ]
    },
    {
      "cell_type": "code",
      "metadata": {
        "id": "XBELP3RxFRE6",
        "colab_type": "code",
        "colab": {},
        "outputId": "fc14bfef-8984-4fa3-9975-4198ec109eb0"
      },
      "source": [
        "a = [0,1,2,3,4,5,6,7,8,9,10]\n",
        "a[0:5]"
      ],
      "execution_count": null,
      "outputs": [
        {
          "output_type": "execute_result",
          "data": {
            "text/plain": [
              "[0, 1, 2, 3, 4]"
            ]
          },
          "metadata": {
            "tags": []
          },
          "execution_count": 58
        }
      ]
    },
    {
      "cell_type": "code",
      "metadata": {
        "id": "WklV45O6FRE8",
        "colab_type": "code",
        "colab": {},
        "outputId": "3117a17e-a073-4d25-c4e5-dfc529eafde5"
      },
      "source": [
        "import pandas as pd\n",
        "df = pd.read_csv('./data/stock/AAPL.csv',index_col='Date', parse_dates=['Date'])\n",
        "df.head()"
      ],
      "execution_count": null,
      "outputs": [
        {
          "output_type": "execute_result",
          "data": {
            "text/html": [
              "<div>\n",
              "<style scoped>\n",
              "    .dataframe tbody tr th:only-of-type {\n",
              "        vertical-align: middle;\n",
              "    }\n",
              "\n",
              "    .dataframe tbody tr th {\n",
              "        vertical-align: top;\n",
              "    }\n",
              "\n",
              "    .dataframe thead th {\n",
              "        text-align: right;\n",
              "    }\n",
              "</style>\n",
              "<table border=\"1\" class=\"dataframe\">\n",
              "  <thead>\n",
              "    <tr style=\"text-align: right;\">\n",
              "      <th></th>\n",
              "      <th>Open</th>\n",
              "      <th>High</th>\n",
              "      <th>Low</th>\n",
              "      <th>Close</th>\n",
              "      <th>Adj Close</th>\n",
              "      <th>Volume</th>\n",
              "    </tr>\n",
              "    <tr>\n",
              "      <th>Date</th>\n",
              "      <th></th>\n",
              "      <th></th>\n",
              "      <th></th>\n",
              "      <th></th>\n",
              "      <th></th>\n",
              "      <th></th>\n",
              "    </tr>\n",
              "  </thead>\n",
              "  <tbody>\n",
              "    <tr>\n",
              "      <td>1980-12-12</td>\n",
              "      <td>0.513393</td>\n",
              "      <td>0.515625</td>\n",
              "      <td>0.513393</td>\n",
              "      <td>0.513393</td>\n",
              "      <td>0.410525</td>\n",
              "      <td>117258400.0</td>\n",
              "    </tr>\n",
              "    <tr>\n",
              "      <td>1980-12-15</td>\n",
              "      <td>0.488839</td>\n",
              "      <td>0.488839</td>\n",
              "      <td>0.486607</td>\n",
              "      <td>0.486607</td>\n",
              "      <td>0.389106</td>\n",
              "      <td>43971200.0</td>\n",
              "    </tr>\n",
              "    <tr>\n",
              "      <td>1980-12-16</td>\n",
              "      <td>0.453125</td>\n",
              "      <td>0.453125</td>\n",
              "      <td>0.450893</td>\n",
              "      <td>0.450893</td>\n",
              "      <td>0.360548</td>\n",
              "      <td>26432000.0</td>\n",
              "    </tr>\n",
              "    <tr>\n",
              "      <td>1980-12-17</td>\n",
              "      <td>0.462054</td>\n",
              "      <td>0.464286</td>\n",
              "      <td>0.462054</td>\n",
              "      <td>0.462054</td>\n",
              "      <td>0.369472</td>\n",
              "      <td>21610400.0</td>\n",
              "    </tr>\n",
              "    <tr>\n",
              "      <td>1980-12-18</td>\n",
              "      <td>0.475446</td>\n",
              "      <td>0.477679</td>\n",
              "      <td>0.475446</td>\n",
              "      <td>0.475446</td>\n",
              "      <td>0.380182</td>\n",
              "      <td>18362400.0</td>\n",
              "    </tr>\n",
              "  </tbody>\n",
              "</table>\n",
              "</div>"
            ],
            "text/plain": [
              "                Open      High       Low     Close  Adj Close       Volume\n",
              "Date                                                                      \n",
              "1980-12-12  0.513393  0.515625  0.513393  0.513393   0.410525  117258400.0\n",
              "1980-12-15  0.488839  0.488839  0.486607  0.486607   0.389106   43971200.0\n",
              "1980-12-16  0.453125  0.453125  0.450893  0.450893   0.360548   26432000.0\n",
              "1980-12-17  0.462054  0.464286  0.462054  0.462054   0.369472   21610400.0\n",
              "1980-12-18  0.475446  0.477679  0.475446  0.475446   0.380182   18362400.0"
            ]
          },
          "metadata": {
            "tags": []
          },
          "execution_count": 59
        }
      ]
    },
    {
      "cell_type": "code",
      "metadata": {
        "id": "CT2urvezFRE-",
        "colab_type": "code",
        "colab": {},
        "outputId": "d9da8aef-bbbc-4977-8490-bfc96d3a9ede"
      },
      "source": [
        "print(type(df.index))\n",
        "print(type(df.index[0]))"
      ],
      "execution_count": null,
      "outputs": [
        {
          "output_type": "stream",
          "text": [
            "<class 'pandas.core.indexes.datetimes.DatetimeIndex'>\n",
            "<class 'pandas._libs.tslibs.timestamps.Timestamp'>\n"
          ],
          "name": "stdout"
        }
      ]
    },
    {
      "cell_type": "markdown",
      "metadata": {
        "id": "fPrCNnnuFRFB",
        "colab_type": "text"
      },
      "source": [
        "열단위 출력"
      ]
    },
    {
      "cell_type": "code",
      "metadata": {
        "id": "dVtOuwe8FRFC",
        "colab_type": "code",
        "colab": {},
        "outputId": "36eb0b2f-d4f7-48ab-9677-db056e8c8aa2"
      },
      "source": [
        "df['Open'].head()"
      ],
      "execution_count": null,
      "outputs": [
        {
          "output_type": "execute_result",
          "data": {
            "text/plain": [
              "Date\n",
              "1980-12-12    0.513393\n",
              "1980-12-15    0.488839\n",
              "1980-12-16    0.453125\n",
              "1980-12-17    0.462054\n",
              "1980-12-18    0.475446\n",
              "Name: Open, dtype: float64"
            ]
          },
          "metadata": {
            "tags": []
          },
          "execution_count": 61
        }
      ]
    },
    {
      "cell_type": "code",
      "metadata": {
        "id": "2lSjYDA8FRFG",
        "colab_type": "code",
        "colab": {},
        "outputId": "86649de0-77c0-46f5-869e-befa871dcb89"
      },
      "source": [
        "df['Open','High']"
      ],
      "execution_count": null,
      "outputs": [
        {
          "output_type": "error",
          "ename": "KeyError",
          "evalue": "('Open', 'High')",
          "traceback": [
            "\u001b[1;31m---------------------------------------------------------------------------\u001b[0m",
            "\u001b[1;31mKeyError\u001b[0m                                  Traceback (most recent call last)",
            "\u001b[1;32m~\\Anaconda3\\envs\\py36\\lib\\site-packages\\pandas\\core\\indexes\\base.py\u001b[0m in \u001b[0;36mget_loc\u001b[1;34m(self, key, method, tolerance)\u001b[0m\n\u001b[0;32m   2896\u001b[0m             \u001b[1;32mtry\u001b[0m\u001b[1;33m:\u001b[0m\u001b[1;33m\u001b[0m\u001b[1;33m\u001b[0m\u001b[0m\n\u001b[1;32m-> 2897\u001b[1;33m                 \u001b[1;32mreturn\u001b[0m \u001b[0mself\u001b[0m\u001b[1;33m.\u001b[0m\u001b[0m_engine\u001b[0m\u001b[1;33m.\u001b[0m\u001b[0mget_loc\u001b[0m\u001b[1;33m(\u001b[0m\u001b[0mkey\u001b[0m\u001b[1;33m)\u001b[0m\u001b[1;33m\u001b[0m\u001b[1;33m\u001b[0m\u001b[0m\n\u001b[0m\u001b[0;32m   2898\u001b[0m             \u001b[1;32mexcept\u001b[0m \u001b[0mKeyError\u001b[0m\u001b[1;33m:\u001b[0m\u001b[1;33m\u001b[0m\u001b[1;33m\u001b[0m\u001b[0m\n",
            "\u001b[1;32mpandas/_libs/index.pyx\u001b[0m in \u001b[0;36mpandas._libs.index.IndexEngine.get_loc\u001b[1;34m()\u001b[0m\n",
            "\u001b[1;32mpandas/_libs/index.pyx\u001b[0m in \u001b[0;36mpandas._libs.index.IndexEngine.get_loc\u001b[1;34m()\u001b[0m\n",
            "\u001b[1;32mpandas/_libs/hashtable_class_helper.pxi\u001b[0m in \u001b[0;36mpandas._libs.hashtable.PyObjectHashTable.get_item\u001b[1;34m()\u001b[0m\n",
            "\u001b[1;32mpandas/_libs/hashtable_class_helper.pxi\u001b[0m in \u001b[0;36mpandas._libs.hashtable.PyObjectHashTable.get_item\u001b[1;34m()\u001b[0m\n",
            "\u001b[1;31mKeyError\u001b[0m: ('Open', 'High')",
            "\nDuring handling of the above exception, another exception occurred:\n",
            "\u001b[1;31mKeyError\u001b[0m                                  Traceback (most recent call last)",
            "\u001b[1;32m<ipython-input-62-d6c6693d2906>\u001b[0m in \u001b[0;36m<module>\u001b[1;34m\u001b[0m\n\u001b[1;32m----> 1\u001b[1;33m \u001b[0mdf\u001b[0m\u001b[1;33m[\u001b[0m\u001b[1;34m'Open'\u001b[0m\u001b[1;33m,\u001b[0m\u001b[1;34m'High'\u001b[0m\u001b[1;33m]\u001b[0m\u001b[1;33m\u001b[0m\u001b[1;33m\u001b[0m\u001b[0m\n\u001b[0m",
            "\u001b[1;32m~\\Anaconda3\\envs\\py36\\lib\\site-packages\\pandas\\core\\frame.py\u001b[0m in \u001b[0;36m__getitem__\u001b[1;34m(self, key)\u001b[0m\n\u001b[0;32m   2978\u001b[0m             \u001b[1;32mif\u001b[0m \u001b[0mself\u001b[0m\u001b[1;33m.\u001b[0m\u001b[0mcolumns\u001b[0m\u001b[1;33m.\u001b[0m\u001b[0mnlevels\u001b[0m \u001b[1;33m>\u001b[0m \u001b[1;36m1\u001b[0m\u001b[1;33m:\u001b[0m\u001b[1;33m\u001b[0m\u001b[1;33m\u001b[0m\u001b[0m\n\u001b[0;32m   2979\u001b[0m                 \u001b[1;32mreturn\u001b[0m \u001b[0mself\u001b[0m\u001b[1;33m.\u001b[0m\u001b[0m_getitem_multilevel\u001b[0m\u001b[1;33m(\u001b[0m\u001b[0mkey\u001b[0m\u001b[1;33m)\u001b[0m\u001b[1;33m\u001b[0m\u001b[1;33m\u001b[0m\u001b[0m\n\u001b[1;32m-> 2980\u001b[1;33m             \u001b[0mindexer\u001b[0m \u001b[1;33m=\u001b[0m \u001b[0mself\u001b[0m\u001b[1;33m.\u001b[0m\u001b[0mcolumns\u001b[0m\u001b[1;33m.\u001b[0m\u001b[0mget_loc\u001b[0m\u001b[1;33m(\u001b[0m\u001b[0mkey\u001b[0m\u001b[1;33m)\u001b[0m\u001b[1;33m\u001b[0m\u001b[1;33m\u001b[0m\u001b[0m\n\u001b[0m\u001b[0;32m   2981\u001b[0m             \u001b[1;32mif\u001b[0m \u001b[0mis_integer\u001b[0m\u001b[1;33m(\u001b[0m\u001b[0mindexer\u001b[0m\u001b[1;33m)\u001b[0m\u001b[1;33m:\u001b[0m\u001b[1;33m\u001b[0m\u001b[1;33m\u001b[0m\u001b[0m\n\u001b[0;32m   2982\u001b[0m                 \u001b[0mindexer\u001b[0m \u001b[1;33m=\u001b[0m \u001b[1;33m[\u001b[0m\u001b[0mindexer\u001b[0m\u001b[1;33m]\u001b[0m\u001b[1;33m\u001b[0m\u001b[1;33m\u001b[0m\u001b[0m\n",
            "\u001b[1;32m~\\Anaconda3\\envs\\py36\\lib\\site-packages\\pandas\\core\\indexes\\base.py\u001b[0m in \u001b[0;36mget_loc\u001b[1;34m(self, key, method, tolerance)\u001b[0m\n\u001b[0;32m   2897\u001b[0m                 \u001b[1;32mreturn\u001b[0m \u001b[0mself\u001b[0m\u001b[1;33m.\u001b[0m\u001b[0m_engine\u001b[0m\u001b[1;33m.\u001b[0m\u001b[0mget_loc\u001b[0m\u001b[1;33m(\u001b[0m\u001b[0mkey\u001b[0m\u001b[1;33m)\u001b[0m\u001b[1;33m\u001b[0m\u001b[1;33m\u001b[0m\u001b[0m\n\u001b[0;32m   2898\u001b[0m             \u001b[1;32mexcept\u001b[0m \u001b[0mKeyError\u001b[0m\u001b[1;33m:\u001b[0m\u001b[1;33m\u001b[0m\u001b[1;33m\u001b[0m\u001b[0m\n\u001b[1;32m-> 2899\u001b[1;33m                 \u001b[1;32mreturn\u001b[0m \u001b[0mself\u001b[0m\u001b[1;33m.\u001b[0m\u001b[0m_engine\u001b[0m\u001b[1;33m.\u001b[0m\u001b[0mget_loc\u001b[0m\u001b[1;33m(\u001b[0m\u001b[0mself\u001b[0m\u001b[1;33m.\u001b[0m\u001b[0m_maybe_cast_indexer\u001b[0m\u001b[1;33m(\u001b[0m\u001b[0mkey\u001b[0m\u001b[1;33m)\u001b[0m\u001b[1;33m)\u001b[0m\u001b[1;33m\u001b[0m\u001b[1;33m\u001b[0m\u001b[0m\n\u001b[0m\u001b[0;32m   2900\u001b[0m         \u001b[0mindexer\u001b[0m \u001b[1;33m=\u001b[0m \u001b[0mself\u001b[0m\u001b[1;33m.\u001b[0m\u001b[0mget_indexer\u001b[0m\u001b[1;33m(\u001b[0m\u001b[1;33m[\u001b[0m\u001b[0mkey\u001b[0m\u001b[1;33m]\u001b[0m\u001b[1;33m,\u001b[0m \u001b[0mmethod\u001b[0m\u001b[1;33m=\u001b[0m\u001b[0mmethod\u001b[0m\u001b[1;33m,\u001b[0m \u001b[0mtolerance\u001b[0m\u001b[1;33m=\u001b[0m\u001b[0mtolerance\u001b[0m\u001b[1;33m)\u001b[0m\u001b[1;33m\u001b[0m\u001b[1;33m\u001b[0m\u001b[0m\n\u001b[0;32m   2901\u001b[0m         \u001b[1;32mif\u001b[0m \u001b[0mindexer\u001b[0m\u001b[1;33m.\u001b[0m\u001b[0mndim\u001b[0m \u001b[1;33m>\u001b[0m \u001b[1;36m1\u001b[0m \u001b[1;32mor\u001b[0m \u001b[0mindexer\u001b[0m\u001b[1;33m.\u001b[0m\u001b[0msize\u001b[0m \u001b[1;33m>\u001b[0m \u001b[1;36m1\u001b[0m\u001b[1;33m:\u001b[0m\u001b[1;33m\u001b[0m\u001b[1;33m\u001b[0m\u001b[0m\n",
            "\u001b[1;32mpandas/_libs/index.pyx\u001b[0m in \u001b[0;36mpandas._libs.index.IndexEngine.get_loc\u001b[1;34m()\u001b[0m\n",
            "\u001b[1;32mpandas/_libs/index.pyx\u001b[0m in \u001b[0;36mpandas._libs.index.IndexEngine.get_loc\u001b[1;34m()\u001b[0m\n",
            "\u001b[1;32mpandas/_libs/hashtable_class_helper.pxi\u001b[0m in \u001b[0;36mpandas._libs.hashtable.PyObjectHashTable.get_item\u001b[1;34m()\u001b[0m\n",
            "\u001b[1;32mpandas/_libs/hashtable_class_helper.pxi\u001b[0m in \u001b[0;36mpandas._libs.hashtable.PyObjectHashTable.get_item\u001b[1;34m()\u001b[0m\n",
            "\u001b[1;31mKeyError\u001b[0m: ('Open', 'High')"
          ]
        }
      ]
    },
    {
      "cell_type": "code",
      "metadata": {
        "id": "NbTRynjtFRFI",
        "colab_type": "code",
        "colab": {},
        "outputId": "fe7ad7bd-ab48-440f-aca9-77b259664237"
      },
      "source": [
        "df[['Open','High','Low','Close']].head()"
      ],
      "execution_count": null,
      "outputs": [
        {
          "output_type": "execute_result",
          "data": {
            "text/html": [
              "<div>\n",
              "<style scoped>\n",
              "    .dataframe tbody tr th:only-of-type {\n",
              "        vertical-align: middle;\n",
              "    }\n",
              "\n",
              "    .dataframe tbody tr th {\n",
              "        vertical-align: top;\n",
              "    }\n",
              "\n",
              "    .dataframe thead th {\n",
              "        text-align: right;\n",
              "    }\n",
              "</style>\n",
              "<table border=\"1\" class=\"dataframe\">\n",
              "  <thead>\n",
              "    <tr style=\"text-align: right;\">\n",
              "      <th></th>\n",
              "      <th>Open</th>\n",
              "      <th>High</th>\n",
              "      <th>Low</th>\n",
              "      <th>Close</th>\n",
              "    </tr>\n",
              "    <tr>\n",
              "      <th>Date</th>\n",
              "      <th></th>\n",
              "      <th></th>\n",
              "      <th></th>\n",
              "      <th></th>\n",
              "    </tr>\n",
              "  </thead>\n",
              "  <tbody>\n",
              "    <tr>\n",
              "      <td>1980-12-12</td>\n",
              "      <td>0.513393</td>\n",
              "      <td>0.515625</td>\n",
              "      <td>0.513393</td>\n",
              "      <td>0.513393</td>\n",
              "    </tr>\n",
              "    <tr>\n",
              "      <td>1980-12-15</td>\n",
              "      <td>0.488839</td>\n",
              "      <td>0.488839</td>\n",
              "      <td>0.486607</td>\n",
              "      <td>0.486607</td>\n",
              "    </tr>\n",
              "    <tr>\n",
              "      <td>1980-12-16</td>\n",
              "      <td>0.453125</td>\n",
              "      <td>0.453125</td>\n",
              "      <td>0.450893</td>\n",
              "      <td>0.450893</td>\n",
              "    </tr>\n",
              "    <tr>\n",
              "      <td>1980-12-17</td>\n",
              "      <td>0.462054</td>\n",
              "      <td>0.464286</td>\n",
              "      <td>0.462054</td>\n",
              "      <td>0.462054</td>\n",
              "    </tr>\n",
              "    <tr>\n",
              "      <td>1980-12-18</td>\n",
              "      <td>0.475446</td>\n",
              "      <td>0.477679</td>\n",
              "      <td>0.475446</td>\n",
              "      <td>0.475446</td>\n",
              "    </tr>\n",
              "  </tbody>\n",
              "</table>\n",
              "</div>"
            ],
            "text/plain": [
              "                Open      High       Low     Close\n",
              "Date                                              \n",
              "1980-12-12  0.513393  0.515625  0.513393  0.513393\n",
              "1980-12-15  0.488839  0.488839  0.486607  0.486607\n",
              "1980-12-16  0.453125  0.453125  0.450893  0.450893\n",
              "1980-12-17  0.462054  0.464286  0.462054  0.462054\n",
              "1980-12-18  0.475446  0.477679  0.475446  0.475446"
            ]
          },
          "metadata": {
            "tags": []
          },
          "execution_count": 63
        }
      ]
    },
    {
      "cell_type": "code",
      "metadata": {
        "id": "CH2emtaKFRFL",
        "colab_type": "code",
        "colab": {},
        "outputId": "e44a217e-4cd4-4ca5-a4b2-04e5475a32af"
      },
      "source": [
        "df[0:3]"
      ],
      "execution_count": null,
      "outputs": [
        {
          "output_type": "execute_result",
          "data": {
            "text/html": [
              "<div>\n",
              "<style scoped>\n",
              "    .dataframe tbody tr th:only-of-type {\n",
              "        vertical-align: middle;\n",
              "    }\n",
              "\n",
              "    .dataframe tbody tr th {\n",
              "        vertical-align: top;\n",
              "    }\n",
              "\n",
              "    .dataframe thead th {\n",
              "        text-align: right;\n",
              "    }\n",
              "</style>\n",
              "<table border=\"1\" class=\"dataframe\">\n",
              "  <thead>\n",
              "    <tr style=\"text-align: right;\">\n",
              "      <th></th>\n",
              "      <th>Open</th>\n",
              "      <th>High</th>\n",
              "      <th>Low</th>\n",
              "      <th>Close</th>\n",
              "      <th>Adj Close</th>\n",
              "      <th>Volume</th>\n",
              "    </tr>\n",
              "    <tr>\n",
              "      <th>Date</th>\n",
              "      <th></th>\n",
              "      <th></th>\n",
              "      <th></th>\n",
              "      <th></th>\n",
              "      <th></th>\n",
              "      <th></th>\n",
              "    </tr>\n",
              "  </thead>\n",
              "  <tbody>\n",
              "    <tr>\n",
              "      <td>1980-12-12</td>\n",
              "      <td>0.513393</td>\n",
              "      <td>0.515625</td>\n",
              "      <td>0.513393</td>\n",
              "      <td>0.513393</td>\n",
              "      <td>0.410525</td>\n",
              "      <td>117258400.0</td>\n",
              "    </tr>\n",
              "    <tr>\n",
              "      <td>1980-12-15</td>\n",
              "      <td>0.488839</td>\n",
              "      <td>0.488839</td>\n",
              "      <td>0.486607</td>\n",
              "      <td>0.486607</td>\n",
              "      <td>0.389106</td>\n",
              "      <td>43971200.0</td>\n",
              "    </tr>\n",
              "    <tr>\n",
              "      <td>1980-12-16</td>\n",
              "      <td>0.453125</td>\n",
              "      <td>0.453125</td>\n",
              "      <td>0.450893</td>\n",
              "      <td>0.450893</td>\n",
              "      <td>0.360548</td>\n",
              "      <td>26432000.0</td>\n",
              "    </tr>\n",
              "  </tbody>\n",
              "</table>\n",
              "</div>"
            ],
            "text/plain": [
              "                Open      High       Low     Close  Adj Close       Volume\n",
              "Date                                                                      \n",
              "1980-12-12  0.513393  0.515625  0.513393  0.513393   0.410525  117258400.0\n",
              "1980-12-15  0.488839  0.488839  0.486607  0.486607   0.389106   43971200.0\n",
              "1980-12-16  0.453125  0.453125  0.450893  0.450893   0.360548   26432000.0"
            ]
          },
          "metadata": {
            "tags": []
          },
          "execution_count": 64
        }
      ]
    },
    {
      "cell_type": "code",
      "metadata": {
        "id": "iUFgJPoOFRFN",
        "colab_type": "code",
        "colab": {},
        "outputId": "fc8a58fe-fa5b-4ebc-c078-abd26241b209"
      },
      "source": [
        "df['2018-10-10':'2018-10-20']"
      ],
      "execution_count": null,
      "outputs": [
        {
          "output_type": "execute_result",
          "data": {
            "text/html": [
              "<div>\n",
              "<style scoped>\n",
              "    .dataframe tbody tr th:only-of-type {\n",
              "        vertical-align: middle;\n",
              "    }\n",
              "\n",
              "    .dataframe tbody tr th {\n",
              "        vertical-align: top;\n",
              "    }\n",
              "\n",
              "    .dataframe thead th {\n",
              "        text-align: right;\n",
              "    }\n",
              "</style>\n",
              "<table border=\"1\" class=\"dataframe\">\n",
              "  <thead>\n",
              "    <tr style=\"text-align: right;\">\n",
              "      <th></th>\n",
              "      <th>Open</th>\n",
              "      <th>High</th>\n",
              "      <th>Low</th>\n",
              "      <th>Close</th>\n",
              "      <th>Adj Close</th>\n",
              "      <th>Volume</th>\n",
              "    </tr>\n",
              "    <tr>\n",
              "      <th>Date</th>\n",
              "      <th></th>\n",
              "      <th></th>\n",
              "      <th></th>\n",
              "      <th></th>\n",
              "      <th></th>\n",
              "      <th></th>\n",
              "    </tr>\n",
              "  </thead>\n",
              "  <tbody>\n",
              "    <tr>\n",
              "      <td>2018-10-10</td>\n",
              "      <td>225.460007</td>\n",
              "      <td>226.350006</td>\n",
              "      <td>216.050003</td>\n",
              "      <td>216.360001</td>\n",
              "      <td>213.863373</td>\n",
              "      <td>41990600.0</td>\n",
              "    </tr>\n",
              "    <tr>\n",
              "      <td>2018-10-11</td>\n",
              "      <td>214.520004</td>\n",
              "      <td>219.500000</td>\n",
              "      <td>212.320007</td>\n",
              "      <td>214.449997</td>\n",
              "      <td>211.975418</td>\n",
              "      <td>53124400.0</td>\n",
              "    </tr>\n",
              "    <tr>\n",
              "      <td>2018-10-12</td>\n",
              "      <td>220.419998</td>\n",
              "      <td>222.880005</td>\n",
              "      <td>216.839996</td>\n",
              "      <td>222.110001</td>\n",
              "      <td>219.547028</td>\n",
              "      <td>40337900.0</td>\n",
              "    </tr>\n",
              "    <tr>\n",
              "      <td>2018-10-15</td>\n",
              "      <td>221.160004</td>\n",
              "      <td>221.830002</td>\n",
              "      <td>217.270004</td>\n",
              "      <td>217.360001</td>\n",
              "      <td>214.851822</td>\n",
              "      <td>30791000.0</td>\n",
              "    </tr>\n",
              "    <tr>\n",
              "      <td>2018-10-16</td>\n",
              "      <td>218.929993</td>\n",
              "      <td>222.990005</td>\n",
              "      <td>216.759995</td>\n",
              "      <td>222.149994</td>\n",
              "      <td>219.586548</td>\n",
              "      <td>29184000.0</td>\n",
              "    </tr>\n",
              "    <tr>\n",
              "      <td>2018-10-17</td>\n",
              "      <td>222.300003</td>\n",
              "      <td>222.639999</td>\n",
              "      <td>219.339996</td>\n",
              "      <td>221.190002</td>\n",
              "      <td>218.637650</td>\n",
              "      <td>22885400.0</td>\n",
              "    </tr>\n",
              "    <tr>\n",
              "      <td>2018-10-18</td>\n",
              "      <td>217.860001</td>\n",
              "      <td>219.740005</td>\n",
              "      <td>213.000000</td>\n",
              "      <td>216.020004</td>\n",
              "      <td>213.527298</td>\n",
              "      <td>32581300.0</td>\n",
              "    </tr>\n",
              "    <tr>\n",
              "      <td>2018-10-19</td>\n",
              "      <td>218.059998</td>\n",
              "      <td>221.259995</td>\n",
              "      <td>217.429993</td>\n",
              "      <td>219.309998</td>\n",
              "      <td>216.779327</td>\n",
              "      <td>33078700.0</td>\n",
              "    </tr>\n",
              "  </tbody>\n",
              "</table>\n",
              "</div>"
            ],
            "text/plain": [
              "                  Open        High         Low       Close   Adj Close  \\\n",
              "Date                                                                     \n",
              "2018-10-10  225.460007  226.350006  216.050003  216.360001  213.863373   \n",
              "2018-10-11  214.520004  219.500000  212.320007  214.449997  211.975418   \n",
              "2018-10-12  220.419998  222.880005  216.839996  222.110001  219.547028   \n",
              "2018-10-15  221.160004  221.830002  217.270004  217.360001  214.851822   \n",
              "2018-10-16  218.929993  222.990005  216.759995  222.149994  219.586548   \n",
              "2018-10-17  222.300003  222.639999  219.339996  221.190002  218.637650   \n",
              "2018-10-18  217.860001  219.740005  213.000000  216.020004  213.527298   \n",
              "2018-10-19  218.059998  221.259995  217.429993  219.309998  216.779327   \n",
              "\n",
              "                Volume  \n",
              "Date                    \n",
              "2018-10-10  41990600.0  \n",
              "2018-10-11  53124400.0  \n",
              "2018-10-12  40337900.0  \n",
              "2018-10-15  30791000.0  \n",
              "2018-10-16  29184000.0  \n",
              "2018-10-17  22885400.0  \n",
              "2018-10-18  32581300.0  \n",
              "2018-10-19  33078700.0  "
            ]
          },
          "metadata": {
            "tags": []
          },
          "execution_count": 66
        }
      ]
    },
    {
      "cell_type": "code",
      "metadata": {
        "id": "5ZKyIep7FRFQ",
        "colab_type": "code",
        "colab": {},
        "outputId": "55881db1-da80-4775-9496-9eb09060520c"
      },
      "source": [
        "import pandas as pd\n",
        "df = pd.read_csv('./data/stock/AAPL.csv')\n",
        "df.head()"
      ],
      "execution_count": null,
      "outputs": [
        {
          "output_type": "execute_result",
          "data": {
            "text/html": [
              "<div>\n",
              "<style scoped>\n",
              "    .dataframe tbody tr th:only-of-type {\n",
              "        vertical-align: middle;\n",
              "    }\n",
              "\n",
              "    .dataframe tbody tr th {\n",
              "        vertical-align: top;\n",
              "    }\n",
              "\n",
              "    .dataframe thead th {\n",
              "        text-align: right;\n",
              "    }\n",
              "</style>\n",
              "<table border=\"1\" class=\"dataframe\">\n",
              "  <thead>\n",
              "    <tr style=\"text-align: right;\">\n",
              "      <th></th>\n",
              "      <th>Date</th>\n",
              "      <th>Open</th>\n",
              "      <th>High</th>\n",
              "      <th>Low</th>\n",
              "      <th>Close</th>\n",
              "      <th>Adj Close</th>\n",
              "      <th>Volume</th>\n",
              "    </tr>\n",
              "  </thead>\n",
              "  <tbody>\n",
              "    <tr>\n",
              "      <td>0</td>\n",
              "      <td>1980-12-12</td>\n",
              "      <td>0.513393</td>\n",
              "      <td>0.515625</td>\n",
              "      <td>0.513393</td>\n",
              "      <td>0.513393</td>\n",
              "      <td>0.410525</td>\n",
              "      <td>117258400.0</td>\n",
              "    </tr>\n",
              "    <tr>\n",
              "      <td>1</td>\n",
              "      <td>1980-12-15</td>\n",
              "      <td>0.488839</td>\n",
              "      <td>0.488839</td>\n",
              "      <td>0.486607</td>\n",
              "      <td>0.486607</td>\n",
              "      <td>0.389106</td>\n",
              "      <td>43971200.0</td>\n",
              "    </tr>\n",
              "    <tr>\n",
              "      <td>2</td>\n",
              "      <td>1980-12-16</td>\n",
              "      <td>0.453125</td>\n",
              "      <td>0.453125</td>\n",
              "      <td>0.450893</td>\n",
              "      <td>0.450893</td>\n",
              "      <td>0.360548</td>\n",
              "      <td>26432000.0</td>\n",
              "    </tr>\n",
              "    <tr>\n",
              "      <td>3</td>\n",
              "      <td>1980-12-17</td>\n",
              "      <td>0.462054</td>\n",
              "      <td>0.464286</td>\n",
              "      <td>0.462054</td>\n",
              "      <td>0.462054</td>\n",
              "      <td>0.369472</td>\n",
              "      <td>21610400.0</td>\n",
              "    </tr>\n",
              "    <tr>\n",
              "      <td>4</td>\n",
              "      <td>1980-12-18</td>\n",
              "      <td>0.475446</td>\n",
              "      <td>0.477679</td>\n",
              "      <td>0.475446</td>\n",
              "      <td>0.475446</td>\n",
              "      <td>0.380182</td>\n",
              "      <td>18362400.0</td>\n",
              "    </tr>\n",
              "  </tbody>\n",
              "</table>\n",
              "</div>"
            ],
            "text/plain": [
              "         Date      Open      High       Low     Close  Adj Close       Volume\n",
              "0  1980-12-12  0.513393  0.515625  0.513393  0.513393   0.410525  117258400.0\n",
              "1  1980-12-15  0.488839  0.488839  0.486607  0.486607   0.389106   43971200.0\n",
              "2  1980-12-16  0.453125  0.453125  0.450893  0.450893   0.360548   26432000.0\n",
              "3  1980-12-17  0.462054  0.464286  0.462054  0.462054   0.369472   21610400.0\n",
              "4  1980-12-18  0.475446  0.477679  0.475446  0.475446   0.380182   18362400.0"
            ]
          },
          "metadata": {
            "tags": []
          },
          "execution_count": 71
        }
      ]
    },
    {
      "cell_type": "code",
      "metadata": {
        "id": "zCrQcWUzFRFS",
        "colab_type": "code",
        "colab": {},
        "outputId": "f7afe005-9a6d-4de4-d628-9e65ef8ed803"
      },
      "source": [
        "print(type(df.index))\n",
        "print(type(df.index[0]))"
      ],
      "execution_count": null,
      "outputs": [
        {
          "output_type": "stream",
          "text": [
            "<class 'pandas.core.indexes.range.RangeIndex'>\n",
            "<class 'int'>\n"
          ],
          "name": "stdout"
        }
      ]
    },
    {
      "cell_type": "markdown",
      "metadata": {
        "id": "YPTb_epGFRFU",
        "colab_type": "text"
      },
      "source": [
        "#### loc와 iloc 인덱서"
      ]
    },
    {
      "cell_type": "markdown",
      "metadata": {
        "id": "nX_yJFj6FRFU",
        "colab_type": "text"
      },
      "source": [
        "행 데이터 출력"
      ]
    },
    {
      "cell_type": "code",
      "metadata": {
        "id": "BquDMFlKFRFV",
        "colab_type": "code",
        "colab": {},
        "outputId": "22fbfbdb-40aa-4030-ae08-1ec4fe938d27"
      },
      "source": [
        "df = pd.read_csv('./data/stock/AAPL.csv',index_col='Date', parse_dates=['Date'])\n",
        "df.loc['1980-12-12']"
      ],
      "execution_count": null,
      "outputs": [
        {
          "output_type": "execute_result",
          "data": {
            "text/plain": [
              "Open         5.133930e-01\n",
              "High         5.156250e-01\n",
              "Low          5.133930e-01\n",
              "Close        5.133930e-01\n",
              "Adj Close    4.105250e-01\n",
              "Volume       1.172584e+08\n",
              "Name: 1980-12-12 00:00:00, dtype: float64"
            ]
          },
          "metadata": {
            "tags": []
          },
          "execution_count": 74
        }
      ]
    },
    {
      "cell_type": "code",
      "metadata": {
        "id": "rOA7Y9SDFRFX",
        "colab_type": "code",
        "colab": {},
        "outputId": "8faf085a-d960-43bd-98b0-af791c82d7bc"
      },
      "source": [
        "df.iloc[0]"
      ],
      "execution_count": null,
      "outputs": [
        {
          "output_type": "execute_result",
          "data": {
            "text/plain": [
              "Open         5.133930e-01\n",
              "High         5.156250e-01\n",
              "Low          5.133930e-01\n",
              "Close        5.133930e-01\n",
              "Adj Close    4.105250e-01\n",
              "Volume       1.172584e+08\n",
              "Name: 1980-12-12 00:00:00, dtype: float64"
            ]
          },
          "metadata": {
            "tags": []
          },
          "execution_count": 75
        }
      ]
    },
    {
      "cell_type": "code",
      "metadata": {
        "id": "5xxUvK1IFRFY",
        "colab_type": "code",
        "colab": {},
        "outputId": "6317a05c-4d13-4b5e-f287-c83da0087fdd"
      },
      "source": [
        "type(df.loc['1980-12-12'])"
      ],
      "execution_count": null,
      "outputs": [
        {
          "output_type": "execute_result",
          "data": {
            "text/plain": [
              "pandas.core.series.Series"
            ]
          },
          "metadata": {
            "tags": []
          },
          "execution_count": 77
        }
      ]
    },
    {
      "cell_type": "code",
      "metadata": {
        "id": "OcRZp0FSFRFa",
        "colab_type": "code",
        "colab": {},
        "outputId": "e97c22da-a43b-4864-f691-1e17eab40ab8"
      },
      "source": [
        "df.index[0] == '1980-12-12'"
      ],
      "execution_count": null,
      "outputs": [
        {
          "output_type": "execute_result",
          "data": {
            "text/plain": [
              "False"
            ]
          },
          "metadata": {
            "tags": []
          },
          "execution_count": 76
        }
      ]
    },
    {
      "cell_type": "code",
      "metadata": {
        "id": "Wfcmz5i_FRFc",
        "colab_type": "code",
        "colab": {}
      },
      "source": [
        "# Key Error 발생. Key값이 일치 하지 않기 때문이다.\n",
        "df.loc[['2018-10-10','2018-10-12'],'Open'] "
      ],
      "execution_count": null,
      "outputs": []
    },
    {
      "cell_type": "code",
      "metadata": {
        "id": "lye0yZlVFRFf",
        "colab_type": "code",
        "colab": {}
      },
      "source": [
        "# Type Error 발생. DataFrame에서 처리할 수 있는 Type으로 변환되지 않기 때문이다.\n",
        "df.loc[['2018-10-10','2018-10-12']:'2018-10-20','Open']"
      ],
      "execution_count": null,
      "outputs": []
    },
    {
      "cell_type": "code",
      "metadata": {
        "id": "KdZY5An7FRFj",
        "colab_type": "code",
        "colab": {},
        "outputId": "c6d0e839-9b63-4ff1-8dd0-71bfdfcd5212"
      },
      "source": [
        "df.loc['2018-10-10':'2018-10-20',['Open','High','Low','Close']]"
      ],
      "execution_count": null,
      "outputs": [
        {
          "output_type": "execute_result",
          "data": {
            "text/html": [
              "<div>\n",
              "<style scoped>\n",
              "    .dataframe tbody tr th:only-of-type {\n",
              "        vertical-align: middle;\n",
              "    }\n",
              "\n",
              "    .dataframe tbody tr th {\n",
              "        vertical-align: top;\n",
              "    }\n",
              "\n",
              "    .dataframe thead th {\n",
              "        text-align: right;\n",
              "    }\n",
              "</style>\n",
              "<table border=\"1\" class=\"dataframe\">\n",
              "  <thead>\n",
              "    <tr style=\"text-align: right;\">\n",
              "      <th></th>\n",
              "      <th>Open</th>\n",
              "      <th>High</th>\n",
              "      <th>Low</th>\n",
              "      <th>Close</th>\n",
              "    </tr>\n",
              "    <tr>\n",
              "      <th>Date</th>\n",
              "      <th></th>\n",
              "      <th></th>\n",
              "      <th></th>\n",
              "      <th></th>\n",
              "    </tr>\n",
              "  </thead>\n",
              "  <tbody>\n",
              "    <tr>\n",
              "      <td>2018-10-10</td>\n",
              "      <td>225.460007</td>\n",
              "      <td>226.350006</td>\n",
              "      <td>216.050003</td>\n",
              "      <td>216.360001</td>\n",
              "    </tr>\n",
              "    <tr>\n",
              "      <td>2018-10-11</td>\n",
              "      <td>214.520004</td>\n",
              "      <td>219.500000</td>\n",
              "      <td>212.320007</td>\n",
              "      <td>214.449997</td>\n",
              "    </tr>\n",
              "    <tr>\n",
              "      <td>2018-10-12</td>\n",
              "      <td>220.419998</td>\n",
              "      <td>222.880005</td>\n",
              "      <td>216.839996</td>\n",
              "      <td>222.110001</td>\n",
              "    </tr>\n",
              "    <tr>\n",
              "      <td>2018-10-15</td>\n",
              "      <td>221.160004</td>\n",
              "      <td>221.830002</td>\n",
              "      <td>217.270004</td>\n",
              "      <td>217.360001</td>\n",
              "    </tr>\n",
              "    <tr>\n",
              "      <td>2018-10-16</td>\n",
              "      <td>218.929993</td>\n",
              "      <td>222.990005</td>\n",
              "      <td>216.759995</td>\n",
              "      <td>222.149994</td>\n",
              "    </tr>\n",
              "    <tr>\n",
              "      <td>2018-10-17</td>\n",
              "      <td>222.300003</td>\n",
              "      <td>222.639999</td>\n",
              "      <td>219.339996</td>\n",
              "      <td>221.190002</td>\n",
              "    </tr>\n",
              "    <tr>\n",
              "      <td>2018-10-18</td>\n",
              "      <td>217.860001</td>\n",
              "      <td>219.740005</td>\n",
              "      <td>213.000000</td>\n",
              "      <td>216.020004</td>\n",
              "    </tr>\n",
              "    <tr>\n",
              "      <td>2018-10-19</td>\n",
              "      <td>218.059998</td>\n",
              "      <td>221.259995</td>\n",
              "      <td>217.429993</td>\n",
              "      <td>219.309998</td>\n",
              "    </tr>\n",
              "  </tbody>\n",
              "</table>\n",
              "</div>"
            ],
            "text/plain": [
              "                  Open        High         Low       Close\n",
              "Date                                                      \n",
              "2018-10-10  225.460007  226.350006  216.050003  216.360001\n",
              "2018-10-11  214.520004  219.500000  212.320007  214.449997\n",
              "2018-10-12  220.419998  222.880005  216.839996  222.110001\n",
              "2018-10-15  221.160004  221.830002  217.270004  217.360001\n",
              "2018-10-16  218.929993  222.990005  216.759995  222.149994\n",
              "2018-10-17  222.300003  222.639999  219.339996  221.190002\n",
              "2018-10-18  217.860001  219.740005  213.000000  216.020004\n",
              "2018-10-19  218.059998  221.259995  217.429993  219.309998"
            ]
          },
          "metadata": {
            "tags": []
          },
          "execution_count": 79
        }
      ]
    },
    {
      "cell_type": "code",
      "metadata": {
        "id": "AnWAehifFRFl",
        "colab_type": "code",
        "colab": {},
        "outputId": "bebee79e-bc78-48dc-d0d8-8889054eba1c"
      },
      "source": [
        "df.iloc[8000:8010,[0,1,2,3]]"
      ],
      "execution_count": null,
      "outputs": [
        {
          "output_type": "execute_result",
          "data": {
            "text/html": [
              "<div>\n",
              "<style scoped>\n",
              "    .dataframe tbody tr th:only-of-type {\n",
              "        vertical-align: middle;\n",
              "    }\n",
              "\n",
              "    .dataframe tbody tr th {\n",
              "        vertical-align: top;\n",
              "    }\n",
              "\n",
              "    .dataframe thead th {\n",
              "        text-align: right;\n",
              "    }\n",
              "</style>\n",
              "<table border=\"1\" class=\"dataframe\">\n",
              "  <thead>\n",
              "    <tr style=\"text-align: right;\">\n",
              "      <th></th>\n",
              "      <th>Open</th>\n",
              "      <th>High</th>\n",
              "      <th>Low</th>\n",
              "      <th>Close</th>\n",
              "    </tr>\n",
              "    <tr>\n",
              "      <th>Date</th>\n",
              "      <th></th>\n",
              "      <th></th>\n",
              "      <th></th>\n",
              "      <th></th>\n",
              "    </tr>\n",
              "  </thead>\n",
              "  <tbody>\n",
              "    <tr>\n",
              "      <td>2012-08-28</td>\n",
              "      <td>96.425713</td>\n",
              "      <td>96.585716</td>\n",
              "      <td>95.809998</td>\n",
              "      <td>96.400002</td>\n",
              "    </tr>\n",
              "    <tr>\n",
              "      <td>2012-08-29</td>\n",
              "      <td>96.464287</td>\n",
              "      <td>96.809998</td>\n",
              "      <td>96.085716</td>\n",
              "      <td>96.209999</td>\n",
              "    </tr>\n",
              "    <tr>\n",
              "      <td>2012-08-30</td>\n",
              "      <td>95.805717</td>\n",
              "      <td>95.935715</td>\n",
              "      <td>94.692856</td>\n",
              "      <td>94.838570</td>\n",
              "    </tr>\n",
              "    <tr>\n",
              "      <td>2012-08-31</td>\n",
              "      <td>95.321426</td>\n",
              "      <td>95.514282</td>\n",
              "      <td>93.892860</td>\n",
              "      <td>95.034286</td>\n",
              "    </tr>\n",
              "    <tr>\n",
              "      <td>2012-09-04</td>\n",
              "      <td>95.108574</td>\n",
              "      <td>96.448570</td>\n",
              "      <td>94.928574</td>\n",
              "      <td>96.424286</td>\n",
              "    </tr>\n",
              "    <tr>\n",
              "      <td>2012-09-05</td>\n",
              "      <td>96.510002</td>\n",
              "      <td>96.621429</td>\n",
              "      <td>95.657143</td>\n",
              "      <td>95.747147</td>\n",
              "    </tr>\n",
              "    <tr>\n",
              "      <td>2012-09-06</td>\n",
              "      <td>96.167145</td>\n",
              "      <td>96.898575</td>\n",
              "      <td>95.828575</td>\n",
              "      <td>96.610001</td>\n",
              "    </tr>\n",
              "    <tr>\n",
              "      <td>2012-09-07</td>\n",
              "      <td>96.864288</td>\n",
              "      <td>97.497147</td>\n",
              "      <td>96.538574</td>\n",
              "      <td>97.205711</td>\n",
              "    </tr>\n",
              "    <tr>\n",
              "      <td>2012-09-10</td>\n",
              "      <td>97.207146</td>\n",
              "      <td>97.612854</td>\n",
              "      <td>94.585716</td>\n",
              "      <td>94.677139</td>\n",
              "    </tr>\n",
              "    <tr>\n",
              "      <td>2012-09-11</td>\n",
              "      <td>95.015717</td>\n",
              "      <td>95.728569</td>\n",
              "      <td>93.785713</td>\n",
              "      <td>94.370003</td>\n",
              "    </tr>\n",
              "  </tbody>\n",
              "</table>\n",
              "</div>"
            ],
            "text/plain": [
              "                 Open       High        Low      Close\n",
              "Date                                                  \n",
              "2012-08-28  96.425713  96.585716  95.809998  96.400002\n",
              "2012-08-29  96.464287  96.809998  96.085716  96.209999\n",
              "2012-08-30  95.805717  95.935715  94.692856  94.838570\n",
              "2012-08-31  95.321426  95.514282  93.892860  95.034286\n",
              "2012-09-04  95.108574  96.448570  94.928574  96.424286\n",
              "2012-09-05  96.510002  96.621429  95.657143  95.747147\n",
              "2012-09-06  96.167145  96.898575  95.828575  96.610001\n",
              "2012-09-07  96.864288  97.497147  96.538574  97.205711\n",
              "2012-09-10  97.207146  97.612854  94.585716  94.677139\n",
              "2012-09-11  95.015717  95.728569  93.785713  94.370003"
            ]
          },
          "metadata": {
            "tags": []
          },
          "execution_count": 85
        }
      ]
    },
    {
      "cell_type": "markdown",
      "metadata": {
        "id": "KkEVQelbFRFn",
        "colab_type": "text"
      },
      "source": [
        "ISO8601을 따르고 있기에 강력한 기능 <br/>\n",
        "Although the default pandas datetime format is ISO8601 (“yyyy-mm-dd hh:mm:ss”) when selecting data using partial string indexing it understands a lot of other different formats.\n",
        "\n",
        "http://sergilehkyi.com/tips-on-working-with-datetime-index-in-pandas/"
      ]
    },
    {
      "cell_type": "code",
      "metadata": {
        "id": "EvAsZfaWFRFn",
        "colab_type": "code",
        "colab": {},
        "outputId": "9744cca4-9d71-4c12-8183-5c35c06025c7"
      },
      "source": [
        "df.loc['2016-11'].head()"
      ],
      "execution_count": null,
      "outputs": [
        {
          "output_type": "execute_result",
          "data": {
            "text/html": [
              "<div>\n",
              "<style scoped>\n",
              "    .dataframe tbody tr th:only-of-type {\n",
              "        vertical-align: middle;\n",
              "    }\n",
              "\n",
              "    .dataframe tbody tr th {\n",
              "        vertical-align: top;\n",
              "    }\n",
              "\n",
              "    .dataframe thead th {\n",
              "        text-align: right;\n",
              "    }\n",
              "</style>\n",
              "<table border=\"1\" class=\"dataframe\">\n",
              "  <thead>\n",
              "    <tr style=\"text-align: right;\">\n",
              "      <th></th>\n",
              "      <th>Open</th>\n",
              "      <th>High</th>\n",
              "      <th>Low</th>\n",
              "      <th>Close</th>\n",
              "      <th>Adj Close</th>\n",
              "      <th>Volume</th>\n",
              "    </tr>\n",
              "    <tr>\n",
              "      <th>Date</th>\n",
              "      <th></th>\n",
              "      <th></th>\n",
              "      <th></th>\n",
              "      <th></th>\n",
              "      <th></th>\n",
              "      <th></th>\n",
              "    </tr>\n",
              "  </thead>\n",
              "  <tbody>\n",
              "    <tr>\n",
              "      <td>2016-11-01</td>\n",
              "      <td>113.459999</td>\n",
              "      <td>113.769997</td>\n",
              "      <td>110.529999</td>\n",
              "      <td>111.489998</td>\n",
              "      <td>106.680237</td>\n",
              "      <td>43825800.0</td>\n",
              "    </tr>\n",
              "    <tr>\n",
              "      <td>2016-11-02</td>\n",
              "      <td>111.400002</td>\n",
              "      <td>112.349998</td>\n",
              "      <td>111.230003</td>\n",
              "      <td>111.589996</td>\n",
              "      <td>106.775925</td>\n",
              "      <td>28331700.0</td>\n",
              "    </tr>\n",
              "    <tr>\n",
              "      <td>2016-11-03</td>\n",
              "      <td>110.980003</td>\n",
              "      <td>111.459999</td>\n",
              "      <td>109.550003</td>\n",
              "      <td>109.830002</td>\n",
              "      <td>105.631424</td>\n",
              "      <td>26932600.0</td>\n",
              "    </tr>\n",
              "    <tr>\n",
              "      <td>2016-11-04</td>\n",
              "      <td>108.529999</td>\n",
              "      <td>110.250000</td>\n",
              "      <td>108.110001</td>\n",
              "      <td>108.839996</td>\n",
              "      <td>104.679260</td>\n",
              "      <td>30837000.0</td>\n",
              "    </tr>\n",
              "    <tr>\n",
              "      <td>2016-11-07</td>\n",
              "      <td>110.080002</td>\n",
              "      <td>110.510002</td>\n",
              "      <td>109.459999</td>\n",
              "      <td>110.410004</td>\n",
              "      <td>106.189255</td>\n",
              "      <td>32560000.0</td>\n",
              "    </tr>\n",
              "  </tbody>\n",
              "</table>\n",
              "</div>"
            ],
            "text/plain": [
              "                  Open        High         Low       Close   Adj Close  \\\n",
              "Date                                                                     \n",
              "2016-11-01  113.459999  113.769997  110.529999  111.489998  106.680237   \n",
              "2016-11-02  111.400002  112.349998  111.230003  111.589996  106.775925   \n",
              "2016-11-03  110.980003  111.459999  109.550003  109.830002  105.631424   \n",
              "2016-11-04  108.529999  110.250000  108.110001  108.839996  104.679260   \n",
              "2016-11-07  110.080002  110.510002  109.459999  110.410004  106.189255   \n",
              "\n",
              "                Volume  \n",
              "Date                    \n",
              "2016-11-01  43825800.0  \n",
              "2016-11-02  28331700.0  \n",
              "2016-11-03  26932600.0  \n",
              "2016-11-04  30837000.0  \n",
              "2016-11-07  32560000.0  "
            ]
          },
          "metadata": {
            "tags": []
          },
          "execution_count": 82
        }
      ]
    },
    {
      "cell_type": "code",
      "metadata": {
        "id": "kMJetqbAFRFp",
        "colab_type": "code",
        "colab": {},
        "outputId": "ac05d358-15bd-424d-d1da-7e62a0ac9e8b"
      },
      "source": [
        "df.loc['2016-Nov-1':'2016-Nov-10'].head()"
      ],
      "execution_count": null,
      "outputs": [
        {
          "output_type": "execute_result",
          "data": {
            "text/html": [
              "<div>\n",
              "<style scoped>\n",
              "    .dataframe tbody tr th:only-of-type {\n",
              "        vertical-align: middle;\n",
              "    }\n",
              "\n",
              "    .dataframe tbody tr th {\n",
              "        vertical-align: top;\n",
              "    }\n",
              "\n",
              "    .dataframe thead th {\n",
              "        text-align: right;\n",
              "    }\n",
              "</style>\n",
              "<table border=\"1\" class=\"dataframe\">\n",
              "  <thead>\n",
              "    <tr style=\"text-align: right;\">\n",
              "      <th></th>\n",
              "      <th>Open</th>\n",
              "      <th>High</th>\n",
              "      <th>Low</th>\n",
              "      <th>Close</th>\n",
              "      <th>Adj Close</th>\n",
              "      <th>Volume</th>\n",
              "    </tr>\n",
              "    <tr>\n",
              "      <th>Date</th>\n",
              "      <th></th>\n",
              "      <th></th>\n",
              "      <th></th>\n",
              "      <th></th>\n",
              "      <th></th>\n",
              "      <th></th>\n",
              "    </tr>\n",
              "  </thead>\n",
              "  <tbody>\n",
              "    <tr>\n",
              "      <td>2016-11-01</td>\n",
              "      <td>113.459999</td>\n",
              "      <td>113.769997</td>\n",
              "      <td>110.529999</td>\n",
              "      <td>111.489998</td>\n",
              "      <td>106.680237</td>\n",
              "      <td>43825800.0</td>\n",
              "    </tr>\n",
              "    <tr>\n",
              "      <td>2016-11-02</td>\n",
              "      <td>111.400002</td>\n",
              "      <td>112.349998</td>\n",
              "      <td>111.230003</td>\n",
              "      <td>111.589996</td>\n",
              "      <td>106.775925</td>\n",
              "      <td>28331700.0</td>\n",
              "    </tr>\n",
              "    <tr>\n",
              "      <td>2016-11-03</td>\n",
              "      <td>110.980003</td>\n",
              "      <td>111.459999</td>\n",
              "      <td>109.550003</td>\n",
              "      <td>109.830002</td>\n",
              "      <td>105.631424</td>\n",
              "      <td>26932600.0</td>\n",
              "    </tr>\n",
              "    <tr>\n",
              "      <td>2016-11-04</td>\n",
              "      <td>108.529999</td>\n",
              "      <td>110.250000</td>\n",
              "      <td>108.110001</td>\n",
              "      <td>108.839996</td>\n",
              "      <td>104.679260</td>\n",
              "      <td>30837000.0</td>\n",
              "    </tr>\n",
              "    <tr>\n",
              "      <td>2016-11-07</td>\n",
              "      <td>110.080002</td>\n",
              "      <td>110.510002</td>\n",
              "      <td>109.459999</td>\n",
              "      <td>110.410004</td>\n",
              "      <td>106.189255</td>\n",
              "      <td>32560000.0</td>\n",
              "    </tr>\n",
              "  </tbody>\n",
              "</table>\n",
              "</div>"
            ],
            "text/plain": [
              "                  Open        High         Low       Close   Adj Close  \\\n",
              "Date                                                                     \n",
              "2016-11-01  113.459999  113.769997  110.529999  111.489998  106.680237   \n",
              "2016-11-02  111.400002  112.349998  111.230003  111.589996  106.775925   \n",
              "2016-11-03  110.980003  111.459999  109.550003  109.830002  105.631424   \n",
              "2016-11-04  108.529999  110.250000  108.110001  108.839996  104.679260   \n",
              "2016-11-07  110.080002  110.510002  109.459999  110.410004  106.189255   \n",
              "\n",
              "                Volume  \n",
              "Date                    \n",
              "2016-11-01  43825800.0  \n",
              "2016-11-02  28331700.0  \n",
              "2016-11-03  26932600.0  \n",
              "2016-11-04  30837000.0  \n",
              "2016-11-07  32560000.0  "
            ]
          },
          "metadata": {
            "tags": []
          },
          "execution_count": 83
        }
      ]
    },
    {
      "cell_type": "code",
      "metadata": {
        "id": "rfDprHZcFRFr",
        "colab_type": "code",
        "colab": {},
        "outputId": "24e2d22e-11c8-4954-ef50-1b824f0bc7f6"
      },
      "source": [
        "df.loc['November 1, 2016':'November 10, 2016'].head()"
      ],
      "execution_count": null,
      "outputs": [
        {
          "output_type": "execute_result",
          "data": {
            "text/html": [
              "<div>\n",
              "<style scoped>\n",
              "    .dataframe tbody tr th:only-of-type {\n",
              "        vertical-align: middle;\n",
              "    }\n",
              "\n",
              "    .dataframe tbody tr th {\n",
              "        vertical-align: top;\n",
              "    }\n",
              "\n",
              "    .dataframe thead th {\n",
              "        text-align: right;\n",
              "    }\n",
              "</style>\n",
              "<table border=\"1\" class=\"dataframe\">\n",
              "  <thead>\n",
              "    <tr style=\"text-align: right;\">\n",
              "      <th></th>\n",
              "      <th>Open</th>\n",
              "      <th>High</th>\n",
              "      <th>Low</th>\n",
              "      <th>Close</th>\n",
              "      <th>Adj Close</th>\n",
              "      <th>Volume</th>\n",
              "    </tr>\n",
              "    <tr>\n",
              "      <th>Date</th>\n",
              "      <th></th>\n",
              "      <th></th>\n",
              "      <th></th>\n",
              "      <th></th>\n",
              "      <th></th>\n",
              "      <th></th>\n",
              "    </tr>\n",
              "  </thead>\n",
              "  <tbody>\n",
              "    <tr>\n",
              "      <td>2016-11-01</td>\n",
              "      <td>113.459999</td>\n",
              "      <td>113.769997</td>\n",
              "      <td>110.529999</td>\n",
              "      <td>111.489998</td>\n",
              "      <td>106.680237</td>\n",
              "      <td>43825800.0</td>\n",
              "    </tr>\n",
              "    <tr>\n",
              "      <td>2016-11-02</td>\n",
              "      <td>111.400002</td>\n",
              "      <td>112.349998</td>\n",
              "      <td>111.230003</td>\n",
              "      <td>111.589996</td>\n",
              "      <td>106.775925</td>\n",
              "      <td>28331700.0</td>\n",
              "    </tr>\n",
              "    <tr>\n",
              "      <td>2016-11-03</td>\n",
              "      <td>110.980003</td>\n",
              "      <td>111.459999</td>\n",
              "      <td>109.550003</td>\n",
              "      <td>109.830002</td>\n",
              "      <td>105.631424</td>\n",
              "      <td>26932600.0</td>\n",
              "    </tr>\n",
              "    <tr>\n",
              "      <td>2016-11-04</td>\n",
              "      <td>108.529999</td>\n",
              "      <td>110.250000</td>\n",
              "      <td>108.110001</td>\n",
              "      <td>108.839996</td>\n",
              "      <td>104.679260</td>\n",
              "      <td>30837000.0</td>\n",
              "    </tr>\n",
              "    <tr>\n",
              "      <td>2016-11-07</td>\n",
              "      <td>110.080002</td>\n",
              "      <td>110.510002</td>\n",
              "      <td>109.459999</td>\n",
              "      <td>110.410004</td>\n",
              "      <td>106.189255</td>\n",
              "      <td>32560000.0</td>\n",
              "    </tr>\n",
              "  </tbody>\n",
              "</table>\n",
              "</div>"
            ],
            "text/plain": [
              "                  Open        High         Low       Close   Adj Close  \\\n",
              "Date                                                                     \n",
              "2016-11-01  113.459999  113.769997  110.529999  111.489998  106.680237   \n",
              "2016-11-02  111.400002  112.349998  111.230003  111.589996  106.775925   \n",
              "2016-11-03  110.980003  111.459999  109.550003  109.830002  105.631424   \n",
              "2016-11-04  108.529999  110.250000  108.110001  108.839996  104.679260   \n",
              "2016-11-07  110.080002  110.510002  109.459999  110.410004  106.189255   \n",
              "\n",
              "                Volume  \n",
              "Date                    \n",
              "2016-11-01  43825800.0  \n",
              "2016-11-02  28331700.0  \n",
              "2016-11-03  26932600.0  \n",
              "2016-11-04  30837000.0  \n",
              "2016-11-07  32560000.0  "
            ]
          },
          "metadata": {
            "tags": []
          },
          "execution_count": 84
        }
      ]
    },
    {
      "cell_type": "code",
      "metadata": {
        "id": "HYSSbfXwFRFt",
        "colab_type": "code",
        "colab": {},
        "outputId": "3d282dc2-ab40-4860-835a-81b96441f3f7"
      },
      "source": [
        "df.loc['2018-10-10':'2018-10-20']"
      ],
      "execution_count": null,
      "outputs": [
        {
          "output_type": "execute_result",
          "data": {
            "text/html": [
              "<div>\n",
              "<style scoped>\n",
              "    .dataframe tbody tr th:only-of-type {\n",
              "        vertical-align: middle;\n",
              "    }\n",
              "\n",
              "    .dataframe tbody tr th {\n",
              "        vertical-align: top;\n",
              "    }\n",
              "\n",
              "    .dataframe thead th {\n",
              "        text-align: right;\n",
              "    }\n",
              "</style>\n",
              "<table border=\"1\" class=\"dataframe\">\n",
              "  <thead>\n",
              "    <tr style=\"text-align: right;\">\n",
              "      <th></th>\n",
              "      <th>Open</th>\n",
              "      <th>High</th>\n",
              "      <th>Low</th>\n",
              "      <th>Close</th>\n",
              "      <th>Adj Close</th>\n",
              "      <th>Volume</th>\n",
              "    </tr>\n",
              "    <tr>\n",
              "      <th>Date</th>\n",
              "      <th></th>\n",
              "      <th></th>\n",
              "      <th></th>\n",
              "      <th></th>\n",
              "      <th></th>\n",
              "      <th></th>\n",
              "    </tr>\n",
              "  </thead>\n",
              "  <tbody>\n",
              "    <tr>\n",
              "      <td>2018-10-10</td>\n",
              "      <td>225.460007</td>\n",
              "      <td>226.350006</td>\n",
              "      <td>216.050003</td>\n",
              "      <td>216.360001</td>\n",
              "      <td>213.863373</td>\n",
              "      <td>41990600.0</td>\n",
              "    </tr>\n",
              "    <tr>\n",
              "      <td>2018-10-11</td>\n",
              "      <td>214.520004</td>\n",
              "      <td>219.500000</td>\n",
              "      <td>212.320007</td>\n",
              "      <td>214.449997</td>\n",
              "      <td>211.975418</td>\n",
              "      <td>53124400.0</td>\n",
              "    </tr>\n",
              "    <tr>\n",
              "      <td>2018-10-12</td>\n",
              "      <td>220.419998</td>\n",
              "      <td>222.880005</td>\n",
              "      <td>216.839996</td>\n",
              "      <td>222.110001</td>\n",
              "      <td>219.547028</td>\n",
              "      <td>40337900.0</td>\n",
              "    </tr>\n",
              "    <tr>\n",
              "      <td>2018-10-15</td>\n",
              "      <td>221.160004</td>\n",
              "      <td>221.830002</td>\n",
              "      <td>217.270004</td>\n",
              "      <td>217.360001</td>\n",
              "      <td>214.851822</td>\n",
              "      <td>30791000.0</td>\n",
              "    </tr>\n",
              "    <tr>\n",
              "      <td>2018-10-16</td>\n",
              "      <td>218.929993</td>\n",
              "      <td>222.990005</td>\n",
              "      <td>216.759995</td>\n",
              "      <td>222.149994</td>\n",
              "      <td>219.586548</td>\n",
              "      <td>29184000.0</td>\n",
              "    </tr>\n",
              "    <tr>\n",
              "      <td>2018-10-17</td>\n",
              "      <td>222.300003</td>\n",
              "      <td>222.639999</td>\n",
              "      <td>219.339996</td>\n",
              "      <td>221.190002</td>\n",
              "      <td>218.637650</td>\n",
              "      <td>22885400.0</td>\n",
              "    </tr>\n",
              "    <tr>\n",
              "      <td>2018-10-18</td>\n",
              "      <td>217.860001</td>\n",
              "      <td>219.740005</td>\n",
              "      <td>213.000000</td>\n",
              "      <td>216.020004</td>\n",
              "      <td>213.527298</td>\n",
              "      <td>32581300.0</td>\n",
              "    </tr>\n",
              "    <tr>\n",
              "      <td>2018-10-19</td>\n",
              "      <td>218.059998</td>\n",
              "      <td>221.259995</td>\n",
              "      <td>217.429993</td>\n",
              "      <td>219.309998</td>\n",
              "      <td>216.779327</td>\n",
              "      <td>33078700.0</td>\n",
              "    </tr>\n",
              "  </tbody>\n",
              "</table>\n",
              "</div>"
            ],
            "text/plain": [
              "                  Open        High         Low       Close   Adj Close  \\\n",
              "Date                                                                     \n",
              "2018-10-10  225.460007  226.350006  216.050003  216.360001  213.863373   \n",
              "2018-10-11  214.520004  219.500000  212.320007  214.449997  211.975418   \n",
              "2018-10-12  220.419998  222.880005  216.839996  222.110001  219.547028   \n",
              "2018-10-15  221.160004  221.830002  217.270004  217.360001  214.851822   \n",
              "2018-10-16  218.929993  222.990005  216.759995  222.149994  219.586548   \n",
              "2018-10-17  222.300003  222.639999  219.339996  221.190002  218.637650   \n",
              "2018-10-18  217.860001  219.740005  213.000000  216.020004  213.527298   \n",
              "2018-10-19  218.059998  221.259995  217.429993  219.309998  216.779327   \n",
              "\n",
              "                Volume  \n",
              "Date                    \n",
              "2018-10-10  41990600.0  \n",
              "2018-10-11  53124400.0  \n",
              "2018-10-12  40337900.0  \n",
              "2018-10-15  30791000.0  \n",
              "2018-10-16  29184000.0  \n",
              "2018-10-17  22885400.0  \n",
              "2018-10-18  32581300.0  \n",
              "2018-10-19  33078700.0  "
            ]
          },
          "metadata": {
            "tags": []
          },
          "execution_count": 86
        }
      ]
    },
    {
      "cell_type": "markdown",
      "metadata": {
        "id": "EWSOMOm6FRFv",
        "colab_type": "text"
      },
      "source": [
        "## 2.2.4 금융 시계열 데이터 분석에 유용한 pandas 함수들"
      ]
    },
    {
      "cell_type": "markdown",
      "metadata": {
        "id": "2UXYwYH7FRFw",
        "colab_type": "text"
      },
      "source": [
        "#### Shifting and lags\n",
        "우리는 원하는 시간 주기로 간격만큼 index를 shift할 수 있다. <br/>\n",
        "shift 함수는 pandas를 이용할때 다양한 곳에서 유용하게 사용된다. 다른 시간의 시계열 데이터와 비교할 때 유용하다.<br/>\n"
      ]
    },
    {
      "cell_type": "code",
      "metadata": {
        "id": "9LeCwvm2FRFw",
        "colab_type": "code",
        "colab": {},
        "outputId": "61d34722-c108-49f7-ee0c-c8cab0c75a5e"
      },
      "source": [
        "aapl_df.head()"
      ],
      "execution_count": null,
      "outputs": [
        {
          "output_type": "execute_result",
          "data": {
            "text/html": [
              "<div>\n",
              "<style scoped>\n",
              "    .dataframe tbody tr th:only-of-type {\n",
              "        vertical-align: middle;\n",
              "    }\n",
              "\n",
              "    .dataframe tbody tr th {\n",
              "        vertical-align: top;\n",
              "    }\n",
              "\n",
              "    .dataframe thead th {\n",
              "        text-align: right;\n",
              "    }\n",
              "</style>\n",
              "<table border=\"1\" class=\"dataframe\">\n",
              "  <thead>\n",
              "    <tr style=\"text-align: right;\">\n",
              "      <th></th>\n",
              "      <th>Open</th>\n",
              "      <th>High</th>\n",
              "      <th>Low</th>\n",
              "      <th>Close</th>\n",
              "      <th>Adj Close</th>\n",
              "      <th>Volume</th>\n",
              "    </tr>\n",
              "    <tr>\n",
              "      <th>Date</th>\n",
              "      <th></th>\n",
              "      <th></th>\n",
              "      <th></th>\n",
              "      <th></th>\n",
              "      <th></th>\n",
              "      <th></th>\n",
              "    </tr>\n",
              "  </thead>\n",
              "  <tbody>\n",
              "    <tr>\n",
              "      <td>1980-12-12</td>\n",
              "      <td>0.513393</td>\n",
              "      <td>0.515625</td>\n",
              "      <td>0.513393</td>\n",
              "      <td>0.513393</td>\n",
              "      <td>0.410525</td>\n",
              "      <td>117258400.0</td>\n",
              "    </tr>\n",
              "    <tr>\n",
              "      <td>1980-12-15</td>\n",
              "      <td>0.488839</td>\n",
              "      <td>0.488839</td>\n",
              "      <td>0.486607</td>\n",
              "      <td>0.486607</td>\n",
              "      <td>0.389106</td>\n",
              "      <td>43971200.0</td>\n",
              "    </tr>\n",
              "    <tr>\n",
              "      <td>1980-12-16</td>\n",
              "      <td>0.453125</td>\n",
              "      <td>0.453125</td>\n",
              "      <td>0.450893</td>\n",
              "      <td>0.450893</td>\n",
              "      <td>0.360548</td>\n",
              "      <td>26432000.0</td>\n",
              "    </tr>\n",
              "    <tr>\n",
              "      <td>1980-12-17</td>\n",
              "      <td>0.462054</td>\n",
              "      <td>0.464286</td>\n",
              "      <td>0.462054</td>\n",
              "      <td>0.462054</td>\n",
              "      <td>0.369472</td>\n",
              "      <td>21610400.0</td>\n",
              "    </tr>\n",
              "    <tr>\n",
              "      <td>1980-12-18</td>\n",
              "      <td>0.475446</td>\n",
              "      <td>0.477679</td>\n",
              "      <td>0.475446</td>\n",
              "      <td>0.475446</td>\n",
              "      <td>0.380182</td>\n",
              "      <td>18362400.0</td>\n",
              "    </tr>\n",
              "  </tbody>\n",
              "</table>\n",
              "</div>"
            ],
            "text/plain": [
              "                Open      High       Low     Close  Adj Close       Volume\n",
              "Date                                                                      \n",
              "1980-12-12  0.513393  0.515625  0.513393  0.513393   0.410525  117258400.0\n",
              "1980-12-15  0.488839  0.488839  0.486607  0.486607   0.389106   43971200.0\n",
              "1980-12-16  0.453125  0.453125  0.450893  0.450893   0.360548   26432000.0\n",
              "1980-12-17  0.462054  0.464286  0.462054  0.462054   0.369472   21610400.0\n",
              "1980-12-18  0.475446  0.477679  0.475446  0.475446   0.380182   18362400.0"
            ]
          },
          "metadata": {
            "tags": []
          },
          "execution_count": 87
        }
      ]
    },
    {
      "cell_type": "code",
      "metadata": {
        "id": "HnlaTgYJFRFy",
        "colab_type": "code",
        "colab": {}
      },
      "source": [
        "aapl_df['Close_lag1'] = aapl_df['Close'].shift(1) "
      ],
      "execution_count": null,
      "outputs": []
    },
    {
      "cell_type": "code",
      "metadata": {
        "id": "kvN8U0V-FRF1",
        "colab_type": "code",
        "colab": {}
      },
      "source": [
        "aapl_df.head()"
      ],
      "execution_count": null,
      "outputs": []
    },
    {
      "cell_type": "code",
      "metadata": {
        "id": "VzMIbFhiFRF3",
        "colab_type": "code",
        "colab": {}
      },
      "source": [
        "aapl_df['Close'].asfreq('M',method='ffill').plot(legend=True)\n",
        "shifted = aapl_df['Close'].asfreq('M',method='ffill').shift(10).plot(legend = True)\n",
        "shifted.legend(['Close','Close_lagged'])\n",
        "plt.show()"
      ],
      "execution_count": null,
      "outputs": []
    },
    {
      "cell_type": "markdown",
      "metadata": {
        "id": "mywGjZr2FRF5",
        "colab_type": "text"
      },
      "source": [
        "#### 1.9 Percent change\n",
        "\n",
        "우리는 금융시계열을 다루니 하루하루 주가가 어느정도 변동하는지 간단하게 살펴보자."
      ]
    },
    {
      "cell_type": "code",
      "metadata": {
        "id": "fyzhXhV0FRF5",
        "colab_type": "code",
        "colab": {}
      },
      "source": [
        "aapl_df['pct_change'] = aapl_df['Close'].pct_change()"
      ],
      "execution_count": null,
      "outputs": []
    },
    {
      "cell_type": "code",
      "metadata": {
        "id": "yFUO8Rb_FRF7",
        "colab_type": "code",
        "colab": {}
      },
      "source": [
        "aapl_df.head(10)"
      ],
      "execution_count": null,
      "outputs": []
    },
    {
      "cell_type": "code",
      "metadata": {
        "id": "5GYDz-kbFRF9",
        "colab_type": "code",
        "colab": {}
      },
      "source": [
        "aapl_df['Close'].pct_change().plot()"
      ],
      "execution_count": null,
      "outputs": []
    },
    {
      "cell_type": "markdown",
      "metadata": {
        "id": "E13pPFZDFRGA",
        "colab_type": "text"
      },
      "source": [
        "#### Diff"
      ]
    },
    {
      "cell_type": "code",
      "metadata": {
        "id": "h-ENYEfBFRGA",
        "colab_type": "code",
        "colab": {}
      },
      "source": [
        "aapl_df['Close_diff'] = aapl_df['Close'].diff()"
      ],
      "execution_count": null,
      "outputs": []
    },
    {
      "cell_type": "code",
      "metadata": {
        "id": "4uYerzyeFRGB",
        "colab_type": "code",
        "colab": {}
      },
      "source": [
        "# aapl_df['Close'].shift()"
      ],
      "execution_count": null,
      "outputs": []
    },
    {
      "cell_type": "code",
      "metadata": {
        "id": "E1pLbk8qFRGD",
        "colab_type": "code",
        "colab": {}
      },
      "source": [
        "print(aapl_df['Close'].diff().head())\n",
        "aapl_df['Close'].diff().plot()"
      ],
      "execution_count": null,
      "outputs": []
    },
    {
      "cell_type": "code",
      "metadata": {
        "id": "zRIFXIWOFRGG",
        "colab_type": "code",
        "colab": {}
      },
      "source": [
        "print((aapl_df['Close'] /aapl_df['Close'].shift(1) -1).head())\n",
        "(aapl_df['Close'] /aapl_df['Close'].shift(1) -1).plot()"
      ],
      "execution_count": null,
      "outputs": []
    },
    {
      "cell_type": "code",
      "metadata": {
        "id": "-KPrURkhFRGH",
        "colab_type": "code",
        "colab": {}
      },
      "source": [
        "print((aapl_df['Close'].diff() /aapl_df['Close'].shift(1)).head())\n",
        "(aapl_df['Close'].diff() /aapl_df['Close'].shift(1)).plot()"
      ],
      "execution_count": null,
      "outputs": []
    },
    {
      "cell_type": "markdown",
      "metadata": {
        "id": "CtyAWi9EFRGJ",
        "colab_type": "text"
      },
      "source": [
        "#### Rolling"
      ]
    },
    {
      "cell_type": "code",
      "metadata": {
        "id": "mP3LXaw5FRGJ",
        "colab_type": "code",
        "colab": {}
      },
      "source": [
        "aapl_df['MA'] = aapl_df['Close'].rolling(window = 5).mean()"
      ],
      "execution_count": null,
      "outputs": []
    },
    {
      "cell_type": "code",
      "metadata": {
        "id": "puO8ACd3FRGL",
        "colab_type": "code",
        "colab": {},
        "outputId": "ac9729f4-aec6-4e17-8823-9903453319f3"
      },
      "source": [
        "aapl_df.head(10)"
      ],
      "execution_count": null,
      "outputs": [
        {
          "output_type": "execute_result",
          "data": {
            "text/html": [
              "<div>\n",
              "<style scoped>\n",
              "    .dataframe tbody tr th:only-of-type {\n",
              "        vertical-align: middle;\n",
              "    }\n",
              "\n",
              "    .dataframe tbody tr th {\n",
              "        vertical-align: top;\n",
              "    }\n",
              "\n",
              "    .dataframe thead th {\n",
              "        text-align: right;\n",
              "    }\n",
              "</style>\n",
              "<table border=\"1\" class=\"dataframe\">\n",
              "  <thead>\n",
              "    <tr style=\"text-align: right;\">\n",
              "      <th></th>\n",
              "      <th>Open</th>\n",
              "      <th>High</th>\n",
              "      <th>Low</th>\n",
              "      <th>Close</th>\n",
              "      <th>Adj Close</th>\n",
              "      <th>Volume</th>\n",
              "      <th>MA</th>\n",
              "    </tr>\n",
              "    <tr>\n",
              "      <th>Date</th>\n",
              "      <th></th>\n",
              "      <th></th>\n",
              "      <th></th>\n",
              "      <th></th>\n",
              "      <th></th>\n",
              "      <th></th>\n",
              "      <th></th>\n",
              "    </tr>\n",
              "  </thead>\n",
              "  <tbody>\n",
              "    <tr>\n",
              "      <th>1980-12-12</th>\n",
              "      <td>0.513393</td>\n",
              "      <td>0.515625</td>\n",
              "      <td>0.513393</td>\n",
              "      <td>0.513393</td>\n",
              "      <td>0.410525</td>\n",
              "      <td>117258400.0</td>\n",
              "      <td>NaN</td>\n",
              "    </tr>\n",
              "    <tr>\n",
              "      <th>1980-12-15</th>\n",
              "      <td>0.488839</td>\n",
              "      <td>0.488839</td>\n",
              "      <td>0.486607</td>\n",
              "      <td>0.486607</td>\n",
              "      <td>0.389106</td>\n",
              "      <td>43971200.0</td>\n",
              "      <td>NaN</td>\n",
              "    </tr>\n",
              "    <tr>\n",
              "      <th>1980-12-16</th>\n",
              "      <td>0.453125</td>\n",
              "      <td>0.453125</td>\n",
              "      <td>0.450893</td>\n",
              "      <td>0.450893</td>\n",
              "      <td>0.360548</td>\n",
              "      <td>26432000.0</td>\n",
              "      <td>NaN</td>\n",
              "    </tr>\n",
              "    <tr>\n",
              "      <th>1980-12-17</th>\n",
              "      <td>0.462054</td>\n",
              "      <td>0.464286</td>\n",
              "      <td>0.462054</td>\n",
              "      <td>0.462054</td>\n",
              "      <td>0.369472</td>\n",
              "      <td>21610400.0</td>\n",
              "      <td>NaN</td>\n",
              "    </tr>\n",
              "    <tr>\n",
              "      <th>1980-12-18</th>\n",
              "      <td>0.475446</td>\n",
              "      <td>0.477679</td>\n",
              "      <td>0.475446</td>\n",
              "      <td>0.475446</td>\n",
              "      <td>0.380182</td>\n",
              "      <td>18362400.0</td>\n",
              "      <td>0.477679</td>\n",
              "    </tr>\n",
              "    <tr>\n",
              "      <th>1980-12-19</th>\n",
              "      <td>0.504464</td>\n",
              "      <td>0.506696</td>\n",
              "      <td>0.504464</td>\n",
              "      <td>0.504464</td>\n",
              "      <td>0.403385</td>\n",
              "      <td>12157600.0</td>\n",
              "      <td>0.475893</td>\n",
              "    </tr>\n",
              "    <tr>\n",
              "      <th>1980-12-22</th>\n",
              "      <td>0.529018</td>\n",
              "      <td>0.531250</td>\n",
              "      <td>0.529018</td>\n",
              "      <td>0.529018</td>\n",
              "      <td>0.423019</td>\n",
              "      <td>9340800.0</td>\n",
              "      <td>0.484375</td>\n",
              "    </tr>\n",
              "    <tr>\n",
              "      <th>1980-12-23</th>\n",
              "      <td>0.551339</td>\n",
              "      <td>0.553571</td>\n",
              "      <td>0.551339</td>\n",
              "      <td>0.551339</td>\n",
              "      <td>0.440868</td>\n",
              "      <td>11737600.0</td>\n",
              "      <td>0.504464</td>\n",
              "    </tr>\n",
              "    <tr>\n",
              "      <th>1980-12-24</th>\n",
              "      <td>0.580357</td>\n",
              "      <td>0.582589</td>\n",
              "      <td>0.580357</td>\n",
              "      <td>0.580357</td>\n",
              "      <td>0.464072</td>\n",
              "      <td>12000800.0</td>\n",
              "      <td>0.528125</td>\n",
              "    </tr>\n",
              "    <tr>\n",
              "      <th>1980-12-26</th>\n",
              "      <td>0.633929</td>\n",
              "      <td>0.636161</td>\n",
              "      <td>0.633929</td>\n",
              "      <td>0.633929</td>\n",
              "      <td>0.506909</td>\n",
              "      <td>13893600.0</td>\n",
              "      <td>0.559821</td>\n",
              "    </tr>\n",
              "  </tbody>\n",
              "</table>\n",
              "</div>"
            ],
            "text/plain": [
              "                Open      High       Low     Close  Adj Close       Volume  \\\n",
              "Date                                                                         \n",
              "1980-12-12  0.513393  0.515625  0.513393  0.513393   0.410525  117258400.0   \n",
              "1980-12-15  0.488839  0.488839  0.486607  0.486607   0.389106   43971200.0   \n",
              "1980-12-16  0.453125  0.453125  0.450893  0.450893   0.360548   26432000.0   \n",
              "1980-12-17  0.462054  0.464286  0.462054  0.462054   0.369472   21610400.0   \n",
              "1980-12-18  0.475446  0.477679  0.475446  0.475446   0.380182   18362400.0   \n",
              "1980-12-19  0.504464  0.506696  0.504464  0.504464   0.403385   12157600.0   \n",
              "1980-12-22  0.529018  0.531250  0.529018  0.529018   0.423019    9340800.0   \n",
              "1980-12-23  0.551339  0.553571  0.551339  0.551339   0.440868   11737600.0   \n",
              "1980-12-24  0.580357  0.582589  0.580357  0.580357   0.464072   12000800.0   \n",
              "1980-12-26  0.633929  0.636161  0.633929  0.633929   0.506909   13893600.0   \n",
              "\n",
              "                  MA  \n",
              "Date                  \n",
              "1980-12-12       NaN  \n",
              "1980-12-15       NaN  \n",
              "1980-12-16       NaN  \n",
              "1980-12-17       NaN  \n",
              "1980-12-18  0.477679  \n",
              "1980-12-19  0.475893  \n",
              "1980-12-22  0.484375  \n",
              "1980-12-23  0.504464  \n",
              "1980-12-24  0.528125  \n",
              "1980-12-26  0.559821  "
            ]
          },
          "metadata": {
            "tags": []
          },
          "execution_count": 6
        }
      ]
    },
    {
      "cell_type": "code",
      "metadata": {
        "id": "Q_ZS348LFRGM",
        "colab_type": "code",
        "colab": {}
      },
      "source": [
        "type(aapl_df['Close'].rolling(window = 5))"
      ],
      "execution_count": null,
      "outputs": []
    },
    {
      "cell_type": "markdown",
      "metadata": {
        "id": "2Vllk4N2FRGN",
        "colab_type": "text"
      },
      "source": [
        "#### Resampling\n",
        "\n",
        "* Upsampling : 시계열을 Low frequency에서 high frequency로 변환한다. 누란된 데이터를 채우거나 보간하는 방법을 포함한다. (월간 -> 일)\n",
        "\n",
        "* Downsampling : 시계열을 high frequency에서 low frequency로 변환한다. 기존 데이터를 집계하는 것을 포함.(주간 -> 월 ) or (일간 -> 주간)\n",
        "\n",
        "=> 하지만 금융시계열 같은 경우는 각 시간 데이터가 중요하기에 Downsampling을 살펴보겠다"
      ]
    },
    {
      "cell_type": "code",
      "metadata": {
        "id": "z7626FlHFRGP",
        "colab_type": "code",
        "colab": {}
      },
      "source": [
        "import pandas as pd\n",
        "index = pd.date_range(start = '2019-01-01',end= '2019-10-01',freq='B')\n",
        "series = pd.Series(range(len(index)), index=index)\n"
      ],
      "execution_count": null,
      "outputs": []
    },
    {
      "cell_type": "code",
      "metadata": {
        "id": "IQamTEIkFRGR",
        "colab_type": "code",
        "colab": {}
      },
      "source": [
        "series.resample(rule='M').sum()"
      ],
      "execution_count": null,
      "outputs": []
    },
    {
      "cell_type": "code",
      "metadata": {
        "id": "98NoXHF6FRGT",
        "colab_type": "code",
        "colab": {}
      },
      "source": [
        "series.resample(rule='M').last()"
      ],
      "execution_count": null,
      "outputs": []
    },
    {
      "cell_type": "code",
      "metadata": {
        "id": "S5B2dXh9FRGV",
        "colab_type": "code",
        "colab": {}
      },
      "source": [
        "series.resample(rule='MS').first()"
      ],
      "execution_count": null,
      "outputs": []
    },
    {
      "cell_type": "markdown",
      "metadata": {
        "id": "Skpcl8GRFRGW",
        "colab_type": "text"
      },
      "source": [
        "### 2장 Pandas 끝"
      ]
    },
    {
      "cell_type": "code",
      "metadata": {
        "id": "4QyMa4rhFRGX",
        "colab_type": "code",
        "colab": {}
      },
      "source": [
        ""
      ],
      "execution_count": null,
      "outputs": []
    }
  ]
}